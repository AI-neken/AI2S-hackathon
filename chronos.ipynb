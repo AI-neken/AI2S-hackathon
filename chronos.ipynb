{
 "cells": [
  {
   "cell_type": "code",
   "execution_count": 23,
   "id": "3a4b569d",
   "metadata": {},
   "outputs": [],
   "source": [
    "import pandas as pd\n",
    "from chronos import ChronosPipeline\n",
    "import torch\n",
    "import numpy as np\n",
    "from utils import preprocess\n",
    "from mlforecast import MLForecast\n",
    "from tqdm import tqdm"
   ]
  },
  {
   "cell_type": "code",
   "execution_count": 24,
   "id": "0ffecd25",
   "metadata": {},
   "outputs": [],
   "source": [
    "pipeline = ChronosPipeline.from_pretrained(\n",
    "    \"amazon/chronos-t5-base\",\n",
    "    device_map=\"cpu\",\n",
    "    torch_dtype=torch.float32, \n",
    ")"
   ]
  },
  {
   "cell_type": "code",
   "execution_count": 25,
   "id": "76f74f7e",
   "metadata": {},
   "outputs": [],
   "source": [
    "df = pd.read_csv('data/01_input_history.csv')\n",
    "df.head()\n",
    "df_train_null, df_train_inactive, df_train_active, df_validation = preprocess.preprocess_ex1(df)"
   ]
  },
  {
   "cell_type": "code",
   "execution_count": 26,
   "id": "7bd2fc93",
   "metadata": {},
   "outputs": [],
   "source": [
    "df_validation['Forecast'] = 0"
   ]
  },
  {
   "cell_type": "code",
   "execution_count": 27,
   "id": "27d52326",
   "metadata": {},
   "outputs": [],
   "source": [
    "FORECAST_HORIZON = 12"
   ]
  },
  {
   "cell_type": "code",
   "execution_count": null,
   "id": "5fd7f9a9",
   "metadata": {},
   "outputs": [
    {
     "name": "stderr",
     "output_type": "stream",
     "text": [
      "100%|██████████| 405/405 [09:01<00:00,  1.34s/it]\n"
     ]
    }
   ],
   "source": [
    "for id in tqdm(df_train_active['unique_id'].unique()):\n",
    "    context = torch.tensor(df_train_active[df_train_active['unique_id'] == id]['Quantity'].values)\n",
    "    forecast= pipeline.predict(context, FORECAST_HORIZON,num_samples=20)\n",
    "    median = np.quantile(forecast[0].numpy(), 0.5, axis=0).astype(int)\n",
    "    df_validation.loc[df_validation['unique_id'] == id, 'Forecast'] = median"
   ]
  },
  {
   "cell_type": "code",
   "execution_count": 50,
   "id": "2f06ba6a",
   "metadata": {},
   "outputs": [],
   "source": [
    "def restore_original_format(date_column):\n",
    "    return date_column.dt.strftime('%b%Y')\n"
   ]
  },
  {
   "cell_type": "code",
   "execution_count": 51,
   "id": "ea3e8eaa",
   "metadata": {},
   "outputs": [
    {
     "data": {
      "text/html": [
       "<div>\n",
       "<style scoped>\n",
       "    .dataframe tbody tr th:only-of-type {\n",
       "        vertical-align: middle;\n",
       "    }\n",
       "\n",
       "    .dataframe tbody tr th {\n",
       "        vertical-align: top;\n",
       "    }\n",
       "\n",
       "    .dataframe thead th {\n",
       "        text-align: right;\n",
       "    }\n",
       "</style>\n",
       "<table border=\"1\" class=\"dataframe\">\n",
       "  <thead>\n",
       "    <tr style=\"text-align: right;\">\n",
       "      <th></th>\n",
       "      <th>unique_id</th>\n",
       "      <th>ds</th>\n",
       "      <th>Quantity</th>\n",
       "      <th>Country</th>\n",
       "      <th>Product</th>\n",
       "      <th>Forecast</th>\n",
       "      <th>Month</th>\n",
       "    </tr>\n",
       "  </thead>\n",
       "  <tbody>\n",
       "    <tr>\n",
       "      <th>0</th>\n",
       "      <td>Japan_MorningMint</td>\n",
       "      <td>2023-01-01</td>\n",
       "      <td>0</td>\n",
       "      <td>Japan</td>\n",
       "      <td>MorningMint</td>\n",
       "      <td>0</td>\n",
       "      <td>Jan2023</td>\n",
       "    </tr>\n",
       "    <tr>\n",
       "      <th>1</th>\n",
       "      <td>Japan_MorningMint</td>\n",
       "      <td>2023-02-01</td>\n",
       "      <td>0</td>\n",
       "      <td>Japan</td>\n",
       "      <td>MorningMint</td>\n",
       "      <td>0</td>\n",
       "      <td>Feb2023</td>\n",
       "    </tr>\n",
       "    <tr>\n",
       "      <th>2</th>\n",
       "      <td>Japan_MorningMint</td>\n",
       "      <td>2023-03-01</td>\n",
       "      <td>0</td>\n",
       "      <td>Japan</td>\n",
       "      <td>MorningMint</td>\n",
       "      <td>0</td>\n",
       "      <td>Mar2023</td>\n",
       "    </tr>\n",
       "    <tr>\n",
       "      <th>3</th>\n",
       "      <td>Japan_MorningMint</td>\n",
       "      <td>2023-04-01</td>\n",
       "      <td>0</td>\n",
       "      <td>Japan</td>\n",
       "      <td>MorningMint</td>\n",
       "      <td>0</td>\n",
       "      <td>Apr2023</td>\n",
       "    </tr>\n",
       "    <tr>\n",
       "      <th>4</th>\n",
       "      <td>Japan_MorningMint</td>\n",
       "      <td>2023-05-01</td>\n",
       "      <td>0</td>\n",
       "      <td>Japan</td>\n",
       "      <td>MorningMint</td>\n",
       "      <td>0</td>\n",
       "      <td>May2023</td>\n",
       "    </tr>\n",
       "    <tr>\n",
       "      <th>...</th>\n",
       "      <td>...</td>\n",
       "      <td>...</td>\n",
       "      <td>...</td>\n",
       "      <td>...</td>\n",
       "      <td>...</td>\n",
       "      <td>...</td>\n",
       "      <td>...</td>\n",
       "    </tr>\n",
       "    <tr>\n",
       "      <th>11995</th>\n",
       "      <td>Russia_HydratingHoney Pet Wipes</td>\n",
       "      <td>2023-08-01</td>\n",
       "      <td>0</td>\n",
       "      <td>Russia</td>\n",
       "      <td>HydratingHoney Pet Wipes</td>\n",
       "      <td>0</td>\n",
       "      <td>Aug2023</td>\n",
       "    </tr>\n",
       "    <tr>\n",
       "      <th>11996</th>\n",
       "      <td>Russia_HydratingHoney Pet Wipes</td>\n",
       "      <td>2023-09-01</td>\n",
       "      <td>0</td>\n",
       "      <td>Russia</td>\n",
       "      <td>HydratingHoney Pet Wipes</td>\n",
       "      <td>0</td>\n",
       "      <td>Sep2023</td>\n",
       "    </tr>\n",
       "    <tr>\n",
       "      <th>11997</th>\n",
       "      <td>Russia_HydratingHoney Pet Wipes</td>\n",
       "      <td>2023-10-01</td>\n",
       "      <td>0</td>\n",
       "      <td>Russia</td>\n",
       "      <td>HydratingHoney Pet Wipes</td>\n",
       "      <td>0</td>\n",
       "      <td>Oct2023</td>\n",
       "    </tr>\n",
       "    <tr>\n",
       "      <th>11998</th>\n",
       "      <td>Russia_HydratingHoney Pet Wipes</td>\n",
       "      <td>2023-11-01</td>\n",
       "      <td>0</td>\n",
       "      <td>Russia</td>\n",
       "      <td>HydratingHoney Pet Wipes</td>\n",
       "      <td>0</td>\n",
       "      <td>Nov2023</td>\n",
       "    </tr>\n",
       "    <tr>\n",
       "      <th>11999</th>\n",
       "      <td>Russia_HydratingHoney Pet Wipes</td>\n",
       "      <td>2023-12-01</td>\n",
       "      <td>0</td>\n",
       "      <td>Russia</td>\n",
       "      <td>HydratingHoney Pet Wipes</td>\n",
       "      <td>0</td>\n",
       "      <td>Dec2023</td>\n",
       "    </tr>\n",
       "  </tbody>\n",
       "</table>\n",
       "<p>12000 rows × 7 columns</p>\n",
       "</div>"
      ],
      "text/plain": [
       "                             unique_id         ds  Quantity Country  \\\n",
       "0                    Japan_MorningMint 2023-01-01         0   Japan   \n",
       "1                    Japan_MorningMint 2023-02-01         0   Japan   \n",
       "2                    Japan_MorningMint 2023-03-01         0   Japan   \n",
       "3                    Japan_MorningMint 2023-04-01         0   Japan   \n",
       "4                    Japan_MorningMint 2023-05-01         0   Japan   \n",
       "...                                ...        ...       ...     ...   \n",
       "11995  Russia_HydratingHoney Pet Wipes 2023-08-01         0  Russia   \n",
       "11996  Russia_HydratingHoney Pet Wipes 2023-09-01         0  Russia   \n",
       "11997  Russia_HydratingHoney Pet Wipes 2023-10-01         0  Russia   \n",
       "11998  Russia_HydratingHoney Pet Wipes 2023-11-01         0  Russia   \n",
       "11999  Russia_HydratingHoney Pet Wipes 2023-12-01         0  Russia   \n",
       "\n",
       "                        Product  Forecast    Month  \n",
       "0                   MorningMint         0  Jan2023  \n",
       "1                   MorningMint         0  Feb2023  \n",
       "2                   MorningMint         0  Mar2023  \n",
       "3                   MorningMint         0  Apr2023  \n",
       "4                   MorningMint         0  May2023  \n",
       "...                         ...       ...      ...  \n",
       "11995  HydratingHoney Pet Wipes         0  Aug2023  \n",
       "11996  HydratingHoney Pet Wipes         0  Sep2023  \n",
       "11997  HydratingHoney Pet Wipes         0  Oct2023  \n",
       "11998  HydratingHoney Pet Wipes         0  Nov2023  \n",
       "11999  HydratingHoney Pet Wipes         0  Dec2023  \n",
       "\n",
       "[12000 rows x 7 columns]"
      ]
     },
     "execution_count": 51,
     "metadata": {},
     "output_type": "execute_result"
    }
   ],
   "source": [
    "df_validation['Month'] = restore_original_format(df_validation['ds'])\n",
    "df_validation"
   ]
  },
  {
   "cell_type": "code",
   "execution_count": 52,
   "id": "a9b10c46",
   "metadata": {},
   "outputs": [],
   "source": [
    "df_validation[['Quantity','Country','Product','Month']].to_csv('submissions/validation_chronos.csv', index=False)"
   ]
  },
  {
   "cell_type": "code",
   "execution_count": 53,
   "id": "825e3b30",
   "metadata": {},
   "outputs": [],
   "source": [
    "df_forecast = df_validation[['Forecast','Country','Product','Month']].copy()\n",
    "df_forecast.rename(columns={'Forecast': 'Quantity'}, inplace=True)\n",
    "df_forecast[['Quantity','Country','Product','Month']].to_csv('submissions/submission_chronos.csv', index=False)"
   ]
  },
  {
   "cell_type": "code",
   "execution_count": null,
   "id": "3a219ff5",
   "metadata": {},
   "outputs": [],
   "source": [
    "# def restore_original_format(date_column):\n",
    "#     return date_column.dt.strftime('%b%Y')\n",
    "\n",
    "# def submission_formatter(df):\n",
    "#     restored_df = df.copy()\n",
    "#     restored_df['Country'] = df['unique_id'].str.split('_').str[0]\n",
    "#     restored_df['Product'] = df['unique_id'].str.split('_').str[1]\n",
    "#     restored_df['Month'] = restore_original_format(restored_df['ds'])\n",
    "#     restored_df.drop(columns=['unique_id', 'ds'], inplace=True)\n",
    "#     return restored_df\n",
    "\n",
    "    \n",
    "# df_forecast = submission_formatter(df_forecast)\n",
    "# df_validation = submission_formatter(df_validation)"
   ]
  }
 ],
 "metadata": {
  "kernelspec": {
   "display_name": "Python 3",
   "language": "python",
   "name": "python3"
  },
  "language_info": {
   "codemirror_mode": {
    "name": "ipython",
    "version": 3
   },
   "file_extension": ".py",
   "mimetype": "text/x-python",
   "name": "python",
   "nbconvert_exporter": "python",
   "pygments_lexer": "ipython3",
   "version": "3.12.1"
  }
 },
 "nbformat": 4,
 "nbformat_minor": 5
}
