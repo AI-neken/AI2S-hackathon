{
 "cells": [
  {
   "cell_type": "code",
   "execution_count": 89,
   "metadata": {},
   "outputs": [],
   "source": [
    "import pandas as pd\n",
    "import matplotlib.pyplot as plt\n",
    "# Modeling\n",
    "from neuralforecast import NeuralForecast\n",
    "from neuralforecast.models import LSTM #DeepAR,NHITS,RNN,\n",
    "\n",
    "import torch\n",
    "from typing import Union\n",
    "from neuralforecast.losses.pytorch import MSE\n",
    "from neuralforecast.losses.pytorch import BasePointLoss\n",
    "from neuralforecast import NeuralForecast\n",
    "from neuralforecast.models import LSTM\n",
    "\n",
    "from neuralforecast.utils import augment_calendar_df\n",
    "\n",
    "\n",
    "\n",
    "from utils.losses import customLoss"
   ]
  },
  {
   "cell_type": "code",
   "execution_count": 90,
   "metadata": {},
   "outputs": [
    {
     "data": {
      "text/html": [
       "<div>\n",
       "<style scoped>\n",
       "    .dataframe tbody tr th:only-of-type {\n",
       "        vertical-align: middle;\n",
       "    }\n",
       "\n",
       "    .dataframe tbody tr th {\n",
       "        vertical-align: top;\n",
       "    }\n",
       "\n",
       "    .dataframe thead th {\n",
       "        text-align: right;\n",
       "    }\n",
       "</style>\n",
       "<table border=\"1\" class=\"dataframe\">\n",
       "  <thead>\n",
       "    <tr style=\"text-align: right;\">\n",
       "      <th></th>\n",
       "      <th>Country</th>\n",
       "      <th>Product</th>\n",
       "      <th>Month</th>\n",
       "      <th>Quantity</th>\n",
       "    </tr>\n",
       "  </thead>\n",
       "  <tbody>\n",
       "    <tr>\n",
       "      <th>0</th>\n",
       "      <td>Japan</td>\n",
       "      <td>MorningMint</td>\n",
       "      <td>Jan2004</td>\n",
       "      <td>0</td>\n",
       "    </tr>\n",
       "    <tr>\n",
       "      <th>1</th>\n",
       "      <td>Japan</td>\n",
       "      <td>MorningMint</td>\n",
       "      <td>Feb2004</td>\n",
       "      <td>0</td>\n",
       "    </tr>\n",
       "    <tr>\n",
       "      <th>2</th>\n",
       "      <td>Japan</td>\n",
       "      <td>MorningMint</td>\n",
       "      <td>Mar2004</td>\n",
       "      <td>0</td>\n",
       "    </tr>\n",
       "    <tr>\n",
       "      <th>3</th>\n",
       "      <td>Japan</td>\n",
       "      <td>MorningMint</td>\n",
       "      <td>Apr2004</td>\n",
       "      <td>0</td>\n",
       "    </tr>\n",
       "    <tr>\n",
       "      <th>4</th>\n",
       "      <td>Japan</td>\n",
       "      <td>MorningMint</td>\n",
       "      <td>May2004</td>\n",
       "      <td>0</td>\n",
       "    </tr>\n",
       "  </tbody>\n",
       "</table>\n",
       "</div>"
      ],
      "text/plain": [
       "  Country      Product    Month  Quantity\n",
       "0   Japan  MorningMint  Jan2004         0\n",
       "1   Japan  MorningMint  Feb2004         0\n",
       "2   Japan  MorningMint  Mar2004         0\n",
       "3   Japan  MorningMint  Apr2004         0\n",
       "4   Japan  MorningMint  May2004         0"
      ]
     },
     "execution_count": 90,
     "metadata": {},
     "output_type": "execute_result"
    }
   ],
   "source": [
    "df = pd.read_csv('data/01_input_history.csv')\n",
    "df.head()"
   ]
  },
  {
   "cell_type": "code",
   "execution_count": 91,
   "metadata": {},
   "outputs": [],
   "source": [
    "# pre process\n",
    "from utils import preprocess\n",
    "\n",
    "df_train_null, df_train_inactive, df_train_active, df_validation = preprocess.preprocess_ex1(df)"
   ]
  },
  {
   "cell_type": "code",
   "execution_count": 4,
   "metadata": {},
   "outputs": [],
   "source": [
    "# merge the inactive to the active\n",
    "# print(df_active.shape)\n",
    "# print(df_inactive.shape)\n",
    "\n",
    "df_train_merged = pd.merge(df_train_active, df_train_inactive, how='outer', on=['unique_id', 'ds', 'Quantity', 'Country', 'Product'])\n",
    "# df_merged.head()\n",
    "\n",
    "\n",
    "# create a static dataframe\n",
    "df_train_static = df_train_merged[['unique_id', 'Country', 'Product']].drop_duplicates().reset_index(drop=True)\n",
    "df_train_static = pd.get_dummies(df_train_static, columns=['Country', 'Product'], drop_first=True)\n",
    "assert df_train_static.shape[0] == df_train_merged['unique_id'].nunique(), 'The number of unique_id in static and merged dataframes do not match!'\n",
    "# df_static.head()"
   ]
  },
  {
   "cell_type": "code",
   "execution_count": 5,
   "metadata": {},
   "outputs": [],
   "source": [
    "df_train_merged = augment_calendar_df(df_train_merged, freq='M')[0]\n",
    "df_validation = augment_calendar_df(df_validation, freq='M')[0]"
   ]
  },
  {
   "cell_type": "code",
   "execution_count": 6,
   "metadata": {},
   "outputs": [],
   "source": [
    "FORECASTING_HORIZON = 12 # one year ahead forecast"
   ]
  },
  {
   "cell_type": "code",
   "execution_count": 8,
   "metadata": {},
   "outputs": [
    {
     "name": "stderr",
     "output_type": "stream",
     "text": [
      "Seed set to 42\n"
     ]
    }
   ],
   "source": [
    "custom_loss = customLoss()\n",
    "\n",
    "nf = NeuralForecast(\n",
    "    models=[\n",
    "        # Model 1: Long-short term memory\n",
    "        LSTM(\n",
    "            h =FORECASTING_HORIZON,\n",
    "            input_size= FORECASTING_HORIZON*2,\n",
    "            loss=custom_loss,\n",
    "            encoder_n_layers = 2,\n",
    "            encoder_hidden_size= 128,\n",
    "            decoder_hidden_size=  128,\n",
    "            decoder_layers= 2,\n",
    "            futr_exog_list = ['month'],\n",
    "            stat_exog_list = df_train_static.columns.tolist()[1:],\n",
    "            batch_size = 128,\n",
    "            learning_rate= 1e-3,\n",
    "            max_steps = 2000,\n",
    "            scaler_type = None,\n",
    "            random_seed=42\n",
    "        )\n",
    "        # Model 2: \n",
    "        \n",
    "    ],\n",
    "    freq='MS',\n",
    "\n",
    ")"
   ]
  },
  {
   "cell_type": "code",
   "execution_count": 10,
   "metadata": {},
   "outputs": [],
   "source": [
    "# nf.fit(\n",
    "#     df = df_train_merged[['unique_id','ds','Quantity',  'month']],\n",
    "#     static_df= df_train_static,\n",
    "#     #val_size= 12\n",
    "#     # id_col = 'unique_id'\n",
    "#     target_col = 'Quantity'\n",
    "# )"
   ]
  },
  {
   "cell_type": "code",
   "execution_count": 11,
   "metadata": {},
   "outputs": [],
   "source": [
    "# save the model \n",
    "# nf.save('models/lstm_model')"
   ]
  },
  {
   "cell_type": "code",
   "execution_count": 13,
   "metadata": {},
   "outputs": [],
   "source": [
    "# nf = NeuralForecast.load('models/lstm_model')"
   ]
  },
  {
   "cell_type": "code",
   "execution_count": 17,
   "metadata": {},
   "outputs": [],
   "source": [
    "future_df = nf.make_future_dataframe()"
   ]
  },
  {
   "cell_type": "code",
   "execution_count": null,
   "metadata": {},
   "outputs": [],
   "source": [
    "future_df = augment_calendar_df(future_df, freq='M')[0]"
   ]
  },
  {
   "cell_type": "code",
   "execution_count": 20,
   "metadata": {},
   "outputs": [
    {
     "data": {
      "text/html": [
       "<div>\n",
       "<style scoped>\n",
       "    .dataframe tbody tr th:only-of-type {\n",
       "        vertical-align: middle;\n",
       "    }\n",
       "\n",
       "    .dataframe tbody tr th {\n",
       "        vertical-align: top;\n",
       "    }\n",
       "\n",
       "    .dataframe thead th {\n",
       "        text-align: right;\n",
       "    }\n",
       "</style>\n",
       "<table border=\"1\" class=\"dataframe\">\n",
       "  <thead>\n",
       "    <tr style=\"text-align: right;\">\n",
       "      <th></th>\n",
       "      <th>unique_id</th>\n",
       "      <th>ds</th>\n",
       "      <th>month</th>\n",
       "    </tr>\n",
       "  </thead>\n",
       "  <tbody>\n",
       "    <tr>\n",
       "      <th>0</th>\n",
       "      <td>Australia_BrightBreeze Insect Repellent</td>\n",
       "      <td>2023-01-01</td>\n",
       "      <td>-0.500000</td>\n",
       "    </tr>\n",
       "    <tr>\n",
       "      <th>1</th>\n",
       "      <td>Australia_BrightBreeze Insect Repellent</td>\n",
       "      <td>2023-02-01</td>\n",
       "      <td>-0.409091</td>\n",
       "    </tr>\n",
       "    <tr>\n",
       "      <th>2</th>\n",
       "      <td>Australia_BrightBreeze Insect Repellent</td>\n",
       "      <td>2023-03-01</td>\n",
       "      <td>-0.318182</td>\n",
       "    </tr>\n",
       "    <tr>\n",
       "      <th>3</th>\n",
       "      <td>Australia_BrightBreeze Insect Repellent</td>\n",
       "      <td>2023-04-01</td>\n",
       "      <td>-0.227273</td>\n",
       "    </tr>\n",
       "    <tr>\n",
       "      <th>4</th>\n",
       "      <td>Australia_BrightBreeze Insect Repellent</td>\n",
       "      <td>2023-05-01</td>\n",
       "      <td>-0.136364</td>\n",
       "    </tr>\n",
       "    <tr>\n",
       "      <th>...</th>\n",
       "      <td>...</td>\n",
       "      <td>...</td>\n",
       "      <td>...</td>\n",
       "    </tr>\n",
       "    <tr>\n",
       "      <th>6595</th>\n",
       "      <td>United Kingdom_SunShield SPF 50 Lotion</td>\n",
       "      <td>2023-08-01</td>\n",
       "      <td>0.136364</td>\n",
       "    </tr>\n",
       "    <tr>\n",
       "      <th>6596</th>\n",
       "      <td>United Kingdom_SunShield SPF 50 Lotion</td>\n",
       "      <td>2023-09-01</td>\n",
       "      <td>0.227273</td>\n",
       "    </tr>\n",
       "    <tr>\n",
       "      <th>6597</th>\n",
       "      <td>United Kingdom_SunShield SPF 50 Lotion</td>\n",
       "      <td>2023-10-01</td>\n",
       "      <td>0.318182</td>\n",
       "    </tr>\n",
       "    <tr>\n",
       "      <th>6598</th>\n",
       "      <td>United Kingdom_SunShield SPF 50 Lotion</td>\n",
       "      <td>2023-11-01</td>\n",
       "      <td>0.409091</td>\n",
       "    </tr>\n",
       "    <tr>\n",
       "      <th>6599</th>\n",
       "      <td>United Kingdom_SunShield SPF 50 Lotion</td>\n",
       "      <td>2023-12-01</td>\n",
       "      <td>0.500000</td>\n",
       "    </tr>\n",
       "  </tbody>\n",
       "</table>\n",
       "<p>6600 rows × 3 columns</p>\n",
       "</div>"
      ],
      "text/plain": [
       "                                    unique_id         ds     month\n",
       "0     Australia_BrightBreeze Insect Repellent 2023-01-01 -0.500000\n",
       "1     Australia_BrightBreeze Insect Repellent 2023-02-01 -0.409091\n",
       "2     Australia_BrightBreeze Insect Repellent 2023-03-01 -0.318182\n",
       "3     Australia_BrightBreeze Insect Repellent 2023-04-01 -0.227273\n",
       "4     Australia_BrightBreeze Insect Repellent 2023-05-01 -0.136364\n",
       "...                                       ...        ...       ...\n",
       "6595   United Kingdom_SunShield SPF 50 Lotion 2023-08-01  0.136364\n",
       "6596   United Kingdom_SunShield SPF 50 Lotion 2023-09-01  0.227273\n",
       "6597   United Kingdom_SunShield SPF 50 Lotion 2023-10-01  0.318182\n",
       "6598   United Kingdom_SunShield SPF 50 Lotion 2023-11-01  0.409091\n",
       "6599   United Kingdom_SunShield SPF 50 Lotion 2023-12-01  0.500000\n",
       "\n",
       "[6600 rows x 3 columns]"
      ]
     },
     "execution_count": 20,
     "metadata": {},
     "output_type": "execute_result"
    }
   ],
   "source": [
    "future_df"
   ]
  },
  {
   "cell_type": "code",
   "execution_count": 92,
   "metadata": {},
   "outputs": [
    {
     "name": "stderr",
     "output_type": "stream",
     "text": [
      "GPU available: False, used: False\n",
      "TPU available: False, using: 0 TPU cores\n",
      "HPU available: False, using: 0 HPUs\n"
     ]
    },
    {
     "data": {
      "application/vnd.jupyter.widget-view+json": {
       "model_id": "e22fa6b9abac48e385035ca83eab5d2c",
       "version_major": 2,
       "version_minor": 0
      },
      "text/plain": [
       "Predicting: |          | 0/? [00:00<?, ?it/s]"
      ]
     },
     "metadata": {},
     "output_type": "display_data"
    }
   ],
   "source": [
    "y_hat = nf.predict(\n",
    "    futr_df = future_df,\n",
    ")"
   ]
  },
  {
   "cell_type": "code",
   "execution_count": 93,
   "metadata": {},
   "outputs": [],
   "source": [
    "y_hat=y_hat.loc[y_hat['unique_id'].isin(df_train_active['unique_id'].unique()),:]"
   ]
  },
  {
   "cell_type": "code",
   "execution_count": 94,
   "metadata": {},
   "outputs": [],
   "source": [
    "df_forecast = df_validation[['unique_id', 'ds']].copy()\n",
    "df_forecast['Quantity'] = 0\n",
    "\n",
    "for id in y_hat['unique_id'].unique():\n",
    "    df_forecast.loc[df_forecast['unique_id'] == id, 'Quantity'] = y_hat.loc[y_hat['unique_id'] == id, 'LSTM'].values.astype(int)\n",
    "    "
   ]
  },
  {
   "cell_type": "code",
   "execution_count": 95,
   "metadata": {},
   "outputs": [],
   "source": [
    "def restore_original_format(date_column):\n",
    "    return date_column.dt.strftime('%b%Y')"
   ]
  },
  {
   "cell_type": "code",
   "execution_count": 96,
   "metadata": {},
   "outputs": [],
   "source": [
    "def submission_formatter(df):\n",
    "    restored_df = df.copy()\n",
    "    restored_df['Country'] = df['unique_id'].str.split('_').str[0]\n",
    "    restored_df['Product'] = df['unique_id'].str.split('_').str[1]\n",
    "    restored_df['Month'] = restore_original_format(restored_df['ds'])\n",
    "    restored_df.drop(columns=['unique_id', 'ds'], inplace=True)\n",
    "    return restored_df\n",
    "\n",
    "    \n",
    "df_forecast = submission_formatter(df_forecast)\n",
    "df_validation = submission_formatter(df_validation)"
   ]
  },
  {
   "cell_type": "code",
   "execution_count": null,
   "metadata": {},
   "outputs": [
    {
     "data": {
      "text/html": [
       "<div>\n",
       "<style scoped>\n",
       "    .dataframe tbody tr th:only-of-type {\n",
       "        vertical-align: middle;\n",
       "    }\n",
       "\n",
       "    .dataframe tbody tr th {\n",
       "        vertical-align: top;\n",
       "    }\n",
       "\n",
       "    .dataframe thead th {\n",
       "        text-align: right;\n",
       "    }\n",
       "</style>\n",
       "<table border=\"1\" class=\"dataframe\">\n",
       "  <thead>\n",
       "    <tr style=\"text-align: right;\">\n",
       "      <th></th>\n",
       "      <th>Quantity</th>\n",
       "      <th>Country</th>\n",
       "      <th>Product</th>\n",
       "      <th>Month</th>\n",
       "    </tr>\n",
       "  </thead>\n",
       "  <tbody>\n",
       "    <tr>\n",
       "      <th>0</th>\n",
       "      <td>0</td>\n",
       "      <td>Japan</td>\n",
       "      <td>MorningMint</td>\n",
       "      <td>Jan2023</td>\n",
       "    </tr>\n",
       "    <tr>\n",
       "      <th>1</th>\n",
       "      <td>0</td>\n",
       "      <td>Japan</td>\n",
       "      <td>MorningMint</td>\n",
       "      <td>Feb2023</td>\n",
       "    </tr>\n",
       "    <tr>\n",
       "      <th>2</th>\n",
       "      <td>0</td>\n",
       "      <td>Japan</td>\n",
       "      <td>MorningMint</td>\n",
       "      <td>Mar2023</td>\n",
       "    </tr>\n",
       "    <tr>\n",
       "      <th>3</th>\n",
       "      <td>0</td>\n",
       "      <td>Japan</td>\n",
       "      <td>MorningMint</td>\n",
       "      <td>Apr2023</td>\n",
       "    </tr>\n",
       "    <tr>\n",
       "      <th>4</th>\n",
       "      <td>0</td>\n",
       "      <td>Japan</td>\n",
       "      <td>MorningMint</td>\n",
       "      <td>May2023</td>\n",
       "    </tr>\n",
       "    <tr>\n",
       "      <th>...</th>\n",
       "      <td>...</td>\n",
       "      <td>...</td>\n",
       "      <td>...</td>\n",
       "      <td>...</td>\n",
       "    </tr>\n",
       "    <tr>\n",
       "      <th>11995</th>\n",
       "      <td>0</td>\n",
       "      <td>Russia</td>\n",
       "      <td>HydratingHoney Pet Wipes</td>\n",
       "      <td>Aug2023</td>\n",
       "    </tr>\n",
       "    <tr>\n",
       "      <th>11996</th>\n",
       "      <td>0</td>\n",
       "      <td>Russia</td>\n",
       "      <td>HydratingHoney Pet Wipes</td>\n",
       "      <td>Sep2023</td>\n",
       "    </tr>\n",
       "    <tr>\n",
       "      <th>11997</th>\n",
       "      <td>0</td>\n",
       "      <td>Russia</td>\n",
       "      <td>HydratingHoney Pet Wipes</td>\n",
       "      <td>Oct2023</td>\n",
       "    </tr>\n",
       "    <tr>\n",
       "      <th>11998</th>\n",
       "      <td>0</td>\n",
       "      <td>Russia</td>\n",
       "      <td>HydratingHoney Pet Wipes</td>\n",
       "      <td>Nov2023</td>\n",
       "    </tr>\n",
       "    <tr>\n",
       "      <th>11999</th>\n",
       "      <td>0</td>\n",
       "      <td>Russia</td>\n",
       "      <td>HydratingHoney Pet Wipes</td>\n",
       "      <td>Dec2023</td>\n",
       "    </tr>\n",
       "  </tbody>\n",
       "</table>\n",
       "<p>12000 rows × 4 columns</p>\n",
       "</div>"
      ],
      "text/plain": [
       "       Quantity Country                   Product    Month\n",
       "0             0   Japan               MorningMint  Jan2023\n",
       "1             0   Japan               MorningMint  Feb2023\n",
       "2             0   Japan               MorningMint  Mar2023\n",
       "3             0   Japan               MorningMint  Apr2023\n",
       "4             0   Japan               MorningMint  May2023\n",
       "...         ...     ...                       ...      ...\n",
       "11995         0  Russia  HydratingHoney Pet Wipes  Aug2023\n",
       "11996         0  Russia  HydratingHoney Pet Wipes  Sep2023\n",
       "11997         0  Russia  HydratingHoney Pet Wipes  Oct2023\n",
       "11998         0  Russia  HydratingHoney Pet Wipes  Nov2023\n",
       "11999         0  Russia  HydratingHoney Pet Wipes  Dec2023\n",
       "\n",
       "[12000 rows x 4 columns]"
      ]
     },
     "execution_count": 97,
     "metadata": {},
     "output_type": "execute_result"
    }
   ],
   "source": [
    "# save to csv\n",
    "df_forecast.to_csv('submissions/submission_lstm.csv', index=False)\n",
    "df_validation.to_csv('submissions/validation_lstm.csv', index=False)"
   ]
  }
 ],
 "metadata": {
  "kernelspec": {
   "display_name": ".venv",
   "language": "python",
   "name": "python3"
  },
  "language_info": {
   "codemirror_mode": {
    "name": "ipython",
    "version": 3
   },
   "file_extension": ".py",
   "mimetype": "text/x-python",
   "name": "python",
   "nbconvert_exporter": "python",
   "pygments_lexer": "ipython3",
   "version": "3.12.9"
  }
 },
 "nbformat": 4,
 "nbformat_minor": 2
}
