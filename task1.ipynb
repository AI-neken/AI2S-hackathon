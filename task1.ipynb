{
 "cells": [
  {
   "cell_type": "code",
   "execution_count": 2,
   "metadata": {},
   "outputs": [],
   "source": [
    "import pandas as pd\n",
    "import matplotlib.pyplot as plt\n",
    "# Modeling\n",
    "from neuralforecast import NeuralForecast\n",
    "from neuralforecast.models import LSTM #DeepAR,NHITS,RNN,\n",
    "\n",
    "import torch\n",
    "from typing import Union\n",
    "from neuralforecast.losses.pytorch import MSE\n",
    "from neuralforecast.losses.pytorch import BasePointLoss\n",
    "from neuralforecast import NeuralForecast\n",
    "from neuralforecast.models import LSTM\n",
    "\n",
    "from neuralforecast.utils import augment_calendar_df\n",
    "\n",
    "\n",
    "\n",
    "from utils.losses import customLoss"
   ]
  },
  {
   "cell_type": "code",
   "execution_count": null,
   "metadata": {},
   "outputs": [],
   "source": [
    "df = pd.read_csv('data/01_input_history.csv')\n",
    "df.head()"
   ]
  },
  {
   "cell_type": "code",
   "execution_count": null,
   "metadata": {},
   "outputs": [],
   "source": [
    "# pre process\n",
    "from utils import preprocess\n",
    "\n",
    "df_train_null, df_train_inactive, df_train_active, df_validation = preprocess.preprocess_ex1(df)"
   ]
  },
  {
   "cell_type": "code",
   "execution_count": null,
   "metadata": {},
   "outputs": [],
   "source": [
    "# merge the inactive to the active\n",
    "# print(df_active.shape)\n",
    "# print(df_inactive.shape)\n",
    "\n",
    "df_train_merged = pd.merge(df_train_active, df_train_inactive, how='outer', on=['unique_id', 'ds', 'Quantity', 'Country', 'Product'])\n",
    "# df_merged.head()\n",
    "\n",
    "\n",
    "# create a static dataframe\n",
    "df_train_static = df_train_merged[['unique_id', 'Country', 'Product']].drop_duplicates().reset_index(drop=True)\n",
    "df_train_static = pd.get_dummies(df_train_static, columns=['Country', 'Product'], drop_first=True)\n",
    "assert df_train_static.shape[0] == df_train_merged['unique_id'].nunique(), 'The number of unique_id in static and merged dataframes do not match!'\n",
    "# df_static.head()"
   ]
  },
  {
   "cell_type": "code",
   "execution_count": null,
   "metadata": {},
   "outputs": [],
   "source": [
    "df_train_merged = augment_calendar_df(df_train_merged, freq='M')[0]\n",
    "df_validation = augment_calendar_df(df_validation, freq='M')[0]"
   ]
  },
  {
   "cell_type": "code",
   "execution_count": null,
   "metadata": {},
   "outputs": [],
   "source": [
    "FORECASTING_HORIZON = 12 # one year ahead forecast"
   ]
  },
  {
   "cell_type": "code",
   "execution_count": null,
   "metadata": {},
   "outputs": [],
   "source": [
    "custom_loss = customLoss()\n",
    "\n",
    "nf = NeuralForecast(\n",
    "    models=[\n",
    "        # Model 1: Long-short term memory\n",
    "        LSTM(\n",
    "            h =FORECASTING_HORIZON,\n",
    "            input_size= FORECASTING_HORIZON*2,\n",
    "            loss=custom_loss,\n",
    "            encoder_n_layers = 2,\n",
    "            encoder_hidden_size= 128,\n",
    "            decoder_hidden_size=  128,\n",
    "            decoder_layers= 2,\n",
    "            futr_exog_list = ['month'],\n",
    "            stat_exog_list = df_train_static.columns.tolist()[1:],\n",
    "            batch_size = 128,\n",
    "            learning_rate= 1e-3,\n",
    "            max_steps = 2000,\n",
    "            scaler_type = None,\n",
    "            random_seed=42\n",
    "        )\n",
    "        # Model 2: \n",
    "        \n",
    "    ],\n",
    "    freq='MS',\n",
    "\n",
    ")"
   ]
  },
  {
   "cell_type": "code",
   "execution_count": null,
   "metadata": {},
   "outputs": [],
   "source": [
    "nf.fit(\n",
    "    df = df_train_merged[['unique_id','ds','Quantity',  'month']],\n",
    "    static_df= df_train_static,\n",
    "    #val_size= 12\n",
    "    # id_col = 'unique_id'\n",
    "    target_col = 'Quantity'\n",
    ")"
   ]
  },
  {
   "cell_type": "code",
   "execution_count": 1,
   "metadata": {},
   "outputs": [
    {
     "ename": "NameError",
     "evalue": "name 'nf' is not defined",
     "output_type": "error",
     "traceback": [
      "\u001b[31m---------------------------------------------------------------------------\u001b[39m",
      "\u001b[31mNameError\u001b[39m                                 Traceback (most recent call last)",
      "\u001b[36mCell\u001b[39m\u001b[36m \u001b[39m\u001b[32mIn[1]\u001b[39m\u001b[32m, line 2\u001b[39m\n\u001b[32m      1\u001b[39m \u001b[38;5;66;03m# save the model \u001b[39;00m\n\u001b[32m----> \u001b[39m\u001b[32m2\u001b[39m \u001b[43mnf\u001b[49m.save(\u001b[33m'\u001b[39m\u001b[33mmodels/lstm_model\u001b[39m\u001b[33m'\u001b[39m)\n",
      "\u001b[31mNameError\u001b[39m: name 'nf' is not defined"
     ]
    }
   ],
   "source": [
    "# save the model \n",
    "nf.save('models/lstm_model')"
   ]
  },
  {
   "cell_type": "code",
   "execution_count": null,
   "metadata": {},
   "outputs": [],
   "source": [
    "# useful_ids = df_train_merged['unique_id'].unique()\n",
    "# df_validation_raw = df_validation[df_validation['unique_id'].isin(useful_ids)]"
   ]
  },
  {
   "cell_type": "code",
   "execution_count": null,
   "metadata": {},
   "outputs": [],
   "source": [
    "# future_dataframe = nf.make_future_dataframe()\n",
    "# future_dataframe.shape\n",
    "# df_validation_raw['ds'] =df_validation['ds'] + pd.offsets.MonthEnd(0)"
   ]
  }
 ],
 "metadata": {
  "kernelspec": {
   "display_name": ".venv",
   "language": "python",
   "name": "python3"
  },
  "language_info": {
   "codemirror_mode": {
    "name": "ipython",
    "version": 3
   },
   "file_extension": ".py",
   "mimetype": "text/x-python",
   "name": "python",
   "nbconvert_exporter": "python",
   "pygments_lexer": "ipython3",
   "version": "3.12.9"
  }
 },
 "nbformat": 4,
 "nbformat_minor": 2
}
