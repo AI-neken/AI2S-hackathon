{
 "cells": [
  {
   "cell_type": "code",
   "execution_count": 1,
   "metadata": {},
   "outputs": [],
   "source": [
    "import pandas as pd"
   ]
  },
  {
   "cell_type": "code",
   "execution_count": 2,
   "metadata": {},
   "outputs": [],
   "source": [
    "df = pd.read_csv('data/01_input_history.csv')"
   ]
  },
  {
   "cell_type": "code",
   "execution_count": 3,
   "metadata": {},
   "outputs": [
    {
     "data": {
      "text/plain": [
       "np.int64(179441)"
      ]
     },
     "execution_count": 3,
     "metadata": {},
     "output_type": "execute_result"
    }
   ],
   "source": [
    "# Count items to 0\n",
    "(df['Quantity'] == 0).sum()"
   ]
  },
  {
   "cell_type": "code",
   "execution_count": 4,
   "metadata": {},
   "outputs": [
    {
     "data": {
      "text/html": [
       "<div>\n",
       "<style scoped>\n",
       "    .dataframe tbody tr th:only-of-type {\n",
       "        vertical-align: middle;\n",
       "    }\n",
       "\n",
       "    .dataframe tbody tr th {\n",
       "        vertical-align: top;\n",
       "    }\n",
       "\n",
       "    .dataframe thead th {\n",
       "        text-align: right;\n",
       "    }\n",
       "</style>\n",
       "<table border=\"1\" class=\"dataframe\">\n",
       "  <thead>\n",
       "    <tr style=\"text-align: right;\">\n",
       "      <th></th>\n",
       "      <th>Country</th>\n",
       "      <th>Product</th>\n",
       "      <th>Month</th>\n",
       "      <th>Quantity</th>\n",
       "      <th>unique_id</th>\n",
       "    </tr>\n",
       "  </thead>\n",
       "  <tbody>\n",
       "    <tr>\n",
       "      <th>0</th>\n",
       "      <td>Japan</td>\n",
       "      <td>MorningMint</td>\n",
       "      <td>Jan2004</td>\n",
       "      <td>0</td>\n",
       "      <td>Japan_MorningMint</td>\n",
       "    </tr>\n",
       "    <tr>\n",
       "      <th>1</th>\n",
       "      <td>Japan</td>\n",
       "      <td>MorningMint</td>\n",
       "      <td>Feb2004</td>\n",
       "      <td>0</td>\n",
       "      <td>Japan_MorningMint</td>\n",
       "    </tr>\n",
       "    <tr>\n",
       "      <th>2</th>\n",
       "      <td>Japan</td>\n",
       "      <td>MorningMint</td>\n",
       "      <td>Mar2004</td>\n",
       "      <td>0</td>\n",
       "      <td>Japan_MorningMint</td>\n",
       "    </tr>\n",
       "    <tr>\n",
       "      <th>3</th>\n",
       "      <td>Japan</td>\n",
       "      <td>MorningMint</td>\n",
       "      <td>Apr2004</td>\n",
       "      <td>0</td>\n",
       "      <td>Japan_MorningMint</td>\n",
       "    </tr>\n",
       "    <tr>\n",
       "      <th>4</th>\n",
       "      <td>Japan</td>\n",
       "      <td>MorningMint</td>\n",
       "      <td>May2004</td>\n",
       "      <td>0</td>\n",
       "      <td>Japan_MorningMint</td>\n",
       "    </tr>\n",
       "  </tbody>\n",
       "</table>\n",
       "</div>"
      ],
      "text/plain": [
       "  Country      Product    Month  Quantity          unique_id\n",
       "0   Japan  MorningMint  Jan2004         0  Japan_MorningMint\n",
       "1   Japan  MorningMint  Feb2004         0  Japan_MorningMint\n",
       "2   Japan  MorningMint  Mar2004         0  Japan_MorningMint\n",
       "3   Japan  MorningMint  Apr2004         0  Japan_MorningMint\n",
       "4   Japan  MorningMint  May2004         0  Japan_MorningMint"
      ]
     },
     "execution_count": 4,
     "metadata": {},
     "output_type": "execute_result"
    }
   ],
   "source": [
    "df['unique_id'] = df['Country'] + '_' + df['Product']\n",
    "df.head()"
   ]
  },
  {
   "cell_type": "code",
   "execution_count": 5,
   "metadata": {},
   "outputs": [
    {
     "data": {
      "text/html": [
       "<div>\n",
       "<style scoped>\n",
       "    .dataframe tbody tr th:only-of-type {\n",
       "        vertical-align: middle;\n",
       "    }\n",
       "\n",
       "    .dataframe tbody tr th {\n",
       "        vertical-align: top;\n",
       "    }\n",
       "\n",
       "    .dataframe thead th {\n",
       "        text-align: right;\n",
       "    }\n",
       "</style>\n",
       "<table border=\"1\" class=\"dataframe\">\n",
       "  <thead>\n",
       "    <tr style=\"text-align: right;\">\n",
       "      <th></th>\n",
       "      <th>unique_id</th>\n",
       "      <th>Quantity</th>\n",
       "    </tr>\n",
       "  </thead>\n",
       "  <tbody>\n",
       "    <tr>\n",
       "      <th>0</th>\n",
       "      <td>Australia_BreathBliss Mints</td>\n",
       "      <td>0</td>\n",
       "    </tr>\n",
       "    <tr>\n",
       "      <th>1</th>\n",
       "      <td>Australia_BreatheEasy Inhalant</td>\n",
       "      <td>0</td>\n",
       "    </tr>\n",
       "    <tr>\n",
       "      <th>2</th>\n",
       "      <td>Australia_BrightBreeze Baby Sunscreen Stick</td>\n",
       "      <td>0</td>\n",
       "    </tr>\n",
       "    <tr>\n",
       "      <th>3</th>\n",
       "      <td>Australia_BrightBreeze Insect Repellent</td>\n",
       "      <td>41735</td>\n",
       "    </tr>\n",
       "    <tr>\n",
       "      <th>4</th>\n",
       "      <td>Australia_BrightBreeze Period Pain Relief</td>\n",
       "      <td>320914</td>\n",
       "    </tr>\n",
       "    <tr>\n",
       "      <th>...</th>\n",
       "      <td>...</td>\n",
       "      <td>...</td>\n",
       "    </tr>\n",
       "    <tr>\n",
       "      <th>995</th>\n",
       "      <td>United Kingdom_SoothingSoft Fabric Softener</td>\n",
       "      <td>0</td>\n",
       "    </tr>\n",
       "    <tr>\n",
       "      <th>996</th>\n",
       "      <td>United Kingdom_SparklingClean All-Purpose Cleaner</td>\n",
       "      <td>6953</td>\n",
       "    </tr>\n",
       "    <tr>\n",
       "      <th>997</th>\n",
       "      <td>United Kingdom_SparklingGlow Toothpaste</td>\n",
       "      <td>326688</td>\n",
       "    </tr>\n",
       "    <tr>\n",
       "      <th>998</th>\n",
       "      <td>United Kingdom_SparklingSmile Water Flosser</td>\n",
       "      <td>13699</td>\n",
       "    </tr>\n",
       "    <tr>\n",
       "      <th>999</th>\n",
       "      <td>United Kingdom_SunShield SPF 50 Lotion</td>\n",
       "      <td>246524</td>\n",
       "    </tr>\n",
       "  </tbody>\n",
       "</table>\n",
       "<p>1000 rows × 2 columns</p>\n",
       "</div>"
      ],
      "text/plain": [
       "                                             unique_id  Quantity\n",
       "0                          Australia_BreathBliss Mints         0\n",
       "1                       Australia_BreatheEasy Inhalant         0\n",
       "2          Australia_BrightBreeze Baby Sunscreen Stick         0\n",
       "3              Australia_BrightBreeze Insect Repellent     41735\n",
       "4            Australia_BrightBreeze Period Pain Relief    320914\n",
       "..                                                 ...       ...\n",
       "995        United Kingdom_SoothingSoft Fabric Softener         0\n",
       "996  United Kingdom_SparklingClean All-Purpose Cleaner      6953\n",
       "997            United Kingdom_SparklingGlow Toothpaste    326688\n",
       "998        United Kingdom_SparklingSmile Water Flosser     13699\n",
       "999             United Kingdom_SunShield SPF 50 Lotion    246524\n",
       "\n",
       "[1000 rows x 2 columns]"
      ]
     },
     "execution_count": 5,
     "metadata": {},
     "output_type": "execute_result"
    }
   ],
   "source": [
    "df_grouped = df.groupby('unique_id').agg({'Quantity':'sum'}).reset_index()\n",
    "df_grouped"
   ]
  },
  {
   "cell_type": "code",
   "execution_count": 9,
   "metadata": {},
   "outputs": [
    {
     "data": {
      "text/plain": [
       "np.False_"
      ]
     },
     "execution_count": 9,
     "metadata": {},
     "output_type": "execute_result"
    }
   ],
   "source": [
    "from utils.preprocess import preprocess_ex1\n",
    "all_zeros_data, prev_active_data, curr_active_data = preprocess_ex1(df)\n",
    "(curr_active_data['Quantity']==0).any()"
   ]
  }
 ],
 "metadata": {
  "kernelspec": {
   "display_name": "base",
   "language": "python",
   "name": "python3"
  },
  "language_info": {
   "codemirror_mode": {
    "name": "ipython",
    "version": 3
   },
   "file_extension": ".py",
   "mimetype": "text/x-python",
   "name": "python",
   "nbconvert_exporter": "python",
   "pygments_lexer": "ipython3",
   "version": "3.12.7"
  }
 },
 "nbformat": 4,
 "nbformat_minor": 2
}
