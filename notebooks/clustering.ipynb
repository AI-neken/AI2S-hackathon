{
 "cells": [
  {
   "cell_type": "code",
   "execution_count": 1,
   "metadata": {},
   "outputs": [],
   "source": [
    "import pandas as pd\n",
    "from utils.preprocess import preprocess_ex1"
   ]
  },
  {
   "cell_type": "code",
   "execution_count": 13,
   "metadata": {},
   "outputs": [],
   "source": [
    "df = pd.read_csv('data/01_input_history.csv')\n",
    "\n",
    "df_train_null, df_train_inactive, df_train_active, df_validation = preprocess_ex1(df)"
   ]
  },
  {
   "cell_type": "code",
   "execution_count": 3,
   "metadata": {},
   "outputs": [
    {
     "data": {
      "text/plain": [
       "405"
      ]
     },
     "execution_count": 3,
     "metadata": {},
     "output_type": "execute_result"
    }
   ],
   "source": [
    "len(df_train_active['unique_id'].unique())"
   ]
  },
  {
   "cell_type": "code",
   "execution_count": 7,
   "metadata": {},
   "outputs": [],
   "source": [
    "from dtaidistance import dtw, clustering\n",
    "from utilsforecast.preprocessing import fill_gaps"
   ]
  },
  {
   "cell_type": "code",
   "execution_count": 14,
   "metadata": {},
   "outputs": [],
   "source": [
    "df_train_active_filled = fill_gaps(df_train_active, start=\"global\", end=\"global\", freq='MS')"
   ]
  },
  {
   "cell_type": "code",
   "execution_count": 15,
   "metadata": {},
   "outputs": [],
   "source": [
    "df_train_active_filled.fillna(0, inplace=True)"
   ]
  },
  {
   "cell_type": "code",
   "execution_count": 18,
   "metadata": {},
   "outputs": [
    {
     "data": {
      "text/plain": [
       "array([[   0.,    0.,    0., ...,  815.,  855.,  872.],\n",
       "       [   0.,    0.,    0., ..., 2089., 1867., 1861.],\n",
       "       [   0.,    0.,    0., ..., 1305., 1249., 1221.],\n",
       "       ...,\n",
       "       [   0.,    0.,    0., ..., 1838., 1733., 1747.],\n",
       "       [   0.,    0.,    0., ..., 1679., 1720., 1531.],\n",
       "       [   0.,    0.,    0., ..., 1902., 1840., 1852.]])"
      ]
     },
     "execution_count": 18,
     "metadata": {},
     "output_type": "execute_result"
    }
   ],
   "source": [
    "df_train_active_filled.shape[0]/405\n",
    "X = df_train_active_filled['Quantity'].values.reshape(405, -1)\n",
    "X"
   ]
  },
  {
   "cell_type": "code",
   "execution_count": 19,
   "metadata": {},
   "outputs": [
    {
     "name": "stderr",
     "output_type": "stream",
     "text": [
      " 97%|█████████▋| 29/30 [00:00<00:00, 26242.68it/s]\n"
     ]
    }
   ],
   "source": [
    "model2 = clustering.HierarchicalTree(dists_fun=dtw.distance_matrix_fast, dists_options={})\n",
    "cluster_idx = model2.fit(X[:30,:])"
   ]
  },
  {
   "cell_type": "code",
   "execution_count": 20,
   "metadata": {},
   "outputs": [
    {
     "data": {
      "text/plain": [
       "(<Figure size 640x480 with 2 Axes>, array([<Axes: >, <Axes: >], dtype=object))"
      ]
     },
     "execution_count": 20,
     "metadata": {},
     "output_type": "execute_result"
    },
    {
     "data": {
      "image/png": "[encoded data removed]",
      "text/plain": [
       "<Figure size 640x480 with 2 Axes>"
      ]
     },
     "metadata": {},
     "output_type": "display_data"
    }
   ],
   "source": [
    "model2.plot()"
   ]
  },
  {
   "cell_type": "code",
   "execution_count": 12,
   "metadata": {},
   "outputs": [
    {
     "data": {
      "text/plain": [
       "1.4142135623730951"
      ]
     },
     "execution_count": 12,
     "metadata": {},
     "output_type": "execute_result"
    }
   ],
   "source": [
    "from dtaidistance import dtw\n",
    "import numpy as np\n",
    "s1 = np.array([0.0, 0, 1, 2, 1, 0, 1, 0, 0])\n",
    "s2 = np.array([0.0, 1, 2, 0, 0, 0, 0, 0, 0])\n",
    "d = dtw.distance_fast(s1, s2)\n",
    "d"
   ]
  }
 ],
 "metadata": {
  "kernelspec": {
   "display_name": "base",
   "language": "python",
   "name": "python3"
  },
  "language_info": {
   "codemirror_mode": {
    "name": "ipython",
    "version": 3
   },
   "file_extension": ".py",
   "mimetype": "text/x-python",
   "name": "python",
   "nbconvert_exporter": "python",
   "pygments_lexer": "ipython3",
   "version": "3.12.7"
  }
 },
 "nbformat": 4,
 "nbformat_minor": 2
}
