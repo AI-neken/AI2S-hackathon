{
 "cells": [
  {
   "cell_type": "code",
   "execution_count": 22,
   "metadata": {},
   "outputs": [],
   "source": [
    "import pandas as pd\n",
    "import matplotlib.pyplot as plt\n",
    "# Modeling\n",
    "from neuralforecast import NeuralForecast\n",
    "from neuralforecast.models import LSTM #DeepAR,NHITS,RNN,\n",
    "\n",
    "import torch\n",
    "from typing import Union\n",
    "from neuralforecast.losses.pytorch import MSE\n",
    "from neuralforecast.losses.pytorch import BasePointLoss\n",
    "from neuralforecast import NeuralForecast\n",
    "from neuralforecast.models import LSTM\n",
    "\n",
    "from neuralforecast.utils import augment_calendar_df\n",
    "\n",
    "from utils.losses import customLoss"
   ]
  },
  {
   "cell_type": "code",
   "execution_count": 57,
   "metadata": {},
   "outputs": [
    {
     "data": {
      "text/html": [
       "<div>\n",
       "<style scoped>\n",
       "    .dataframe tbody tr th:only-of-type {\n",
       "        vertical-align: middle;\n",
       "    }\n",
       "\n",
       "    .dataframe tbody tr th {\n",
       "        vertical-align: top;\n",
       "    }\n",
       "\n",
       "    .dataframe thead th {\n",
       "        text-align: right;\n",
       "    }\n",
       "</style>\n",
       "<table border=\"1\" class=\"dataframe\">\n",
       "  <thead>\n",
       "    <tr style=\"text-align: right;\">\n",
       "      <th></th>\n",
       "      <th>Country</th>\n",
       "      <th>Product</th>\n",
       "      <th>Month</th>\n",
       "      <th>Quantity</th>\n",
       "    </tr>\n",
       "  </thead>\n",
       "  <tbody>\n",
       "    <tr>\n",
       "      <th>0</th>\n",
       "      <td>Japan</td>\n",
       "      <td>MorningMint</td>\n",
       "      <td>Jan2004</td>\n",
       "      <td>0</td>\n",
       "    </tr>\n",
       "    <tr>\n",
       "      <th>1</th>\n",
       "      <td>Japan</td>\n",
       "      <td>MorningMint</td>\n",
       "      <td>Feb2004</td>\n",
       "      <td>0</td>\n",
       "    </tr>\n",
       "    <tr>\n",
       "      <th>2</th>\n",
       "      <td>Japan</td>\n",
       "      <td>MorningMint</td>\n",
       "      <td>Mar2004</td>\n",
       "      <td>0</td>\n",
       "    </tr>\n",
       "    <tr>\n",
       "      <th>3</th>\n",
       "      <td>Japan</td>\n",
       "      <td>MorningMint</td>\n",
       "      <td>Apr2004</td>\n",
       "      <td>0</td>\n",
       "    </tr>\n",
       "    <tr>\n",
       "      <th>4</th>\n",
       "      <td>Japan</td>\n",
       "      <td>MorningMint</td>\n",
       "      <td>May2004</td>\n",
       "      <td>0</td>\n",
       "    </tr>\n",
       "  </tbody>\n",
       "</table>\n",
       "</div>"
      ],
      "text/plain": [
       "  Country      Product    Month  Quantity\n",
       "0   Japan  MorningMint  Jan2004         0\n",
       "1   Japan  MorningMint  Feb2004         0\n",
       "2   Japan  MorningMint  Mar2004         0\n",
       "3   Japan  MorningMint  Apr2004         0\n",
       "4   Japan  MorningMint  May2004         0"
      ]
     },
     "execution_count": 57,
     "metadata": {},
     "output_type": "execute_result"
    }
   ],
   "source": [
    "df = pd.read_csv('data/01_input_history.csv')\n",
    "df.head()"
   ]
  },
  {
   "cell_type": "code",
   "execution_count": 58,
   "metadata": {},
   "outputs": [],
   "source": [
    "# pre process\n",
    "from utils import preprocess\n",
    "df_train_null, df_train_inactive, df_train_active, df_validation = preprocess.preprocess_ex1(df)"
   ]
  },
  {
   "cell_type": "code",
   "execution_count": 25,
   "metadata": {},
   "outputs": [],
   "source": [
    "# merge the inactive to the active\n",
    "df_train_merged = pd.merge(df_train_active, df_train_inactive, how='outer', on=['unique_id', 'ds', 'Quantity', 'Country', 'Product'])\n",
    "\n",
    "# create a static dataframe\n",
    "df_train_static = df_train_merged[['unique_id', 'Country', 'Product']].drop_duplicates().reset_index(drop=True)\n",
    "df_train_static = pd.get_dummies(df_train_static, columns=['Country', 'Product'], drop_first=True)\n",
    "assert df_train_static.shape[0] == df_train_merged['unique_id'].nunique(), 'The number of unique_id in static and merged dataframes do not match!'\n",
    "# df_static.head()"
   ]
  },
  {
   "cell_type": "code",
   "execution_count": 26,
   "metadata": {},
   "outputs": [],
   "source": [
    "df_train_merged = augment_calendar_df(df_train_merged, freq='M')[0]\n",
    "df_validation = augment_calendar_df(df_validation, freq='M')[0]"
   ]
  },
  {
   "cell_type": "code",
   "execution_count": 27,
   "metadata": {},
   "outputs": [],
   "source": [
    "FORECASTING_HORIZON = 12 # one year ahead forecast\n",
    "\n",
    "\n",
    "\n",
    "\n",
    "\n",
    "\n"
   ]
  },
  {
   "cell_type": "code",
   "execution_count": 28,
   "metadata": {},
   "outputs": [
    {
     "name": "stderr",
     "output_type": "stream",
     "text": [
      "Seed set to 42\n"
     ]
    }
   ],
   "source": [
    "custom_loss = customLoss()\n",
    "\n",
    "nf = NeuralForecast(\n",
    "    models=[\n",
    "        # Model 1: Long-short term memory\n",
    "        LSTM(\n",
    "            h =FORECASTING_HORIZON,\n",
    "            input_size= FORECASTING_HORIZON*2,\n",
    "            loss=custom_loss,\n",
    "            encoder_n_layers = 2,\n",
    "            encoder_hidden_size= 128,\n",
    "            decoder_hidden_size=  128,\n",
    "            decoder_layers= 2,\n",
    "            futr_exog_list = ['month'],\n",
    "            stat_exog_list = df_train_static.columns.tolist()[1:],\n",
    "            batch_size = 128,\n",
    "            learning_rate= 1e-3,\n",
    "            max_steps = 2000,\n",
    "            scaler_type = None,\n",
    "            random_seed=42\n",
    "        )\n",
    "        # Model 2: \n",
    "        \n",
    "    ],\n",
    "    freq='MS',\n",
    "\n",
    ")"
   ]
  },
  {
   "cell_type": "code",
   "execution_count": 29,
   "metadata": {},
   "outputs": [],
   "source": [
    "# nf.fit(\n",
    "#     df = df_train_merged[['unique_id','ds','Quantity',  'month']],\n",
    "#     static_df= df_train_static,\n",
    "#     #val_size= 12\n",
    "#     # id_col = 'unique_id'\n",
    "#     target_col = 'Quantity'\n",
    "# )"
   ]
  },
  {
   "cell_type": "code",
   "execution_count": 30,
   "metadata": {},
   "outputs": [],
   "source": [
    "# save the model \n",
    "# nf.save('models/lstm_model')"
   ]
  },
  {
   "cell_type": "code",
   "execution_count": 31,
   "metadata": {},
   "outputs": [
    {
     "name": "stderr",
     "output_type": "stream",
     "text": [
      "Seed set to 42\n"
     ]
    }
   ],
   "source": [
    "nf = NeuralForecast.load('models/lstm_model')"
   ]
  },
  {
   "cell_type": "code",
   "execution_count": 32,
   "metadata": {},
   "outputs": [],
   "source": [
    "future_df = nf.make_future_dataframe()"
   ]
  },
  {
   "cell_type": "code",
   "execution_count": 33,
   "metadata": {},
   "outputs": [],
   "source": [
    "future_df = augment_calendar_df(future_df, freq='M')[0]"
   ]
  },
  {
   "cell_type": "code",
   "execution_count": 34,
   "metadata": {},
   "outputs": [
    {
     "data": {
      "text/html": [
       "<div>\n",
       "<style scoped>\n",
       "    .dataframe tbody tr th:only-of-type {\n",
       "        vertical-align: middle;\n",
       "    }\n",
       "\n",
       "    .dataframe tbody tr th {\n",
       "        vertical-align: top;\n",
       "    }\n",
       "\n",
       "    .dataframe thead th {\n",
       "        text-align: right;\n",
       "    }\n",
       "</style>\n",
       "<table border=\"1\" class=\"dataframe\">\n",
       "  <thead>\n",
       "    <tr style=\"text-align: right;\">\n",
       "      <th></th>\n",
       "      <th>unique_id</th>\n",
       "      <th>ds</th>\n",
       "      <th>month</th>\n",
       "    </tr>\n",
       "  </thead>\n",
       "  <tbody>\n",
       "    <tr>\n",
       "      <th>0</th>\n",
       "      <td>Australia_BrightBreeze Insect Repellent</td>\n",
       "      <td>2023-01-01</td>\n",
       "      <td>-0.500000</td>\n",
       "    </tr>\n",
       "    <tr>\n",
       "      <th>1</th>\n",
       "      <td>Australia_BrightBreeze Insect Repellent</td>\n",
       "      <td>2023-02-01</td>\n",
       "      <td>-0.409091</td>\n",
       "    </tr>\n",
       "    <tr>\n",
       "      <th>2</th>\n",
       "      <td>Australia_BrightBreeze Insect Repellent</td>\n",
       "      <td>2023-03-01</td>\n",
       "      <td>-0.318182</td>\n",
       "    </tr>\n",
       "    <tr>\n",
       "      <th>3</th>\n",
       "      <td>Australia_BrightBreeze Insect Repellent</td>\n",
       "      <td>2023-04-01</td>\n",
       "      <td>-0.227273</td>\n",
       "    </tr>\n",
       "    <tr>\n",
       "      <th>4</th>\n",
       "      <td>Australia_BrightBreeze Insect Repellent</td>\n",
       "      <td>2023-05-01</td>\n",
       "      <td>-0.136364</td>\n",
       "    </tr>\n",
       "    <tr>\n",
       "      <th>...</th>\n",
       "      <td>...</td>\n",
       "      <td>...</td>\n",
       "      <td>...</td>\n",
       "    </tr>\n",
       "    <tr>\n",
       "      <th>6595</th>\n",
       "      <td>United Kingdom_SunShield SPF 50 Lotion</td>\n",
       "      <td>2023-08-01</td>\n",
       "      <td>0.136364</td>\n",
       "    </tr>\n",
       "    <tr>\n",
       "      <th>6596</th>\n",
       "      <td>United Kingdom_SunShield SPF 50 Lotion</td>\n",
       "      <td>2023-09-01</td>\n",
       "      <td>0.227273</td>\n",
       "    </tr>\n",
       "    <tr>\n",
       "      <th>6597</th>\n",
       "      <td>United Kingdom_SunShield SPF 50 Lotion</td>\n",
       "      <td>2023-10-01</td>\n",
       "      <td>0.318182</td>\n",
       "    </tr>\n",
       "    <tr>\n",
       "      <th>6598</th>\n",
       "      <td>United Kingdom_SunShield SPF 50 Lotion</td>\n",
       "      <td>2023-11-01</td>\n",
       "      <td>0.409091</td>\n",
       "    </tr>\n",
       "    <tr>\n",
       "      <th>6599</th>\n",
       "      <td>United Kingdom_SunShield SPF 50 Lotion</td>\n",
       "      <td>2023-12-01</td>\n",
       "      <td>0.500000</td>\n",
       "    </tr>\n",
       "  </tbody>\n",
       "</table>\n",
       "<p>6600 rows × 3 columns</p>\n",
       "</div>"
      ],
      "text/plain": [
       "                                    unique_id         ds     month\n",
       "0     Australia_BrightBreeze Insect Repellent 2023-01-01 -0.500000\n",
       "1     Australia_BrightBreeze Insect Repellent 2023-02-01 -0.409091\n",
       "2     Australia_BrightBreeze Insect Repellent 2023-03-01 -0.318182\n",
       "3     Australia_BrightBreeze Insect Repellent 2023-04-01 -0.227273\n",
       "4     Australia_BrightBreeze Insect Repellent 2023-05-01 -0.136364\n",
       "...                                       ...        ...       ...\n",
       "6595   United Kingdom_SunShield SPF 50 Lotion 2023-08-01  0.136364\n",
       "6596   United Kingdom_SunShield SPF 50 Lotion 2023-09-01  0.227273\n",
       "6597   United Kingdom_SunShield SPF 50 Lotion 2023-10-01  0.318182\n",
       "6598   United Kingdom_SunShield SPF 50 Lotion 2023-11-01  0.409091\n",
       "6599   United Kingdom_SunShield SPF 50 Lotion 2023-12-01  0.500000\n",
       "\n",
       "[6600 rows x 3 columns]"
      ]
     },
     "execution_count": 34,
     "metadata": {},
     "output_type": "execute_result"
    }
   ],
   "source": [
    "future_df"
   ]
  },
  {
   "cell_type": "code",
   "execution_count": 35,
   "metadata": {},
   "outputs": [
    {
     "name": "stderr",
     "output_type": "stream",
     "text": [
      "GPU available: False, used: False\n",
      "TPU available: False, using: 0 TPU cores\n",
      "HPU available: False, using: 0 HPUs\n"
     ]
    },
    {
     "data": {
      "application/vnd.jupyter.widget-view+json": {
       "model_id": "f55fb9265ab94c6da0f36a395df26861",
       "version_major": 2,
       "version_minor": 0
      },
      "text/plain": [
       "Predicting: |          | 0/? [00:00<?, ?it/s]"
      ]
     },
     "metadata": {},
     "output_type": "display_data"
    }
   ],
   "source": [
    "y_hat = nf.predict(\n",
    "    futr_df = future_df,\n",
    ")"
   ]
  },
  {
   "cell_type": "code",
   "execution_count": 36,
   "metadata": {},
   "outputs": [],
   "source": [
    "y_hat=y_hat.loc[y_hat['unique_id'].isin(df_train_active['unique_id'].unique()),:]"
   ]
  },
  {
   "cell_type": "code",
   "execution_count": 37,
   "metadata": {},
   "outputs": [],
   "source": [
    "df_forecast = df_validation[['unique_id', 'ds']].copy()\n",
    "df_forecast['Quantity'] = 0\n",
    "\n",
    "for id in y_hat['unique_id'].unique():\n",
    "    df_forecast.loc[df_forecast['unique_id'] == id, 'Quantity'] = y_hat.loc[y_hat['unique_id'] == id, 'LSTM'].values.astype(int)\n",
    "    "
   ]
  },
  {
   "cell_type": "code",
   "execution_count": 38,
   "metadata": {},
   "outputs": [],
   "source": [
    "def restore_original_format(date_column):\n",
    "    return date_column.dt.strftime('%b%Y')"
   ]
  },
  {
   "cell_type": "code",
   "execution_count": 39,
   "metadata": {},
   "outputs": [],
   "source": [
    "def submission_formatter(df):\n",
    "    restored_df = df.copy()\n",
    "    restored_df['Country'] = df['unique_id'].str.split('_').str[0]\n",
    "    restored_df['Product'] = df['unique_id'].str.split('_').str[1]\n",
    "    restored_df['Month'] = restore_original_format(restored_df['ds'])\n",
    "    restored_df.drop(columns=['unique_id', 'ds'], inplace=True)\n",
    "    return restored_df\n",
    "\n",
    "    \n",
    "df_forecast = submission_formatter(df_forecast)\n",
    "df_validation = submission_formatter(df_validation)"
   ]
  },
  {
   "cell_type": "code",
   "execution_count": 40,
   "metadata": {},
   "outputs": [],
   "source": [
    "# save to csv\n",
    "df_forecast.to_csv('outputs/01_output_prediction_1239.csv', index=False)\n",
    "df_validation.to_csv('outputs/01_output_validation.csv', index=False)"
   ]
  },
  {
   "cell_type": "code",
   "execution_count": null,
   "metadata": {},
   "outputs": [],
   "source": []
  },
  {
   "cell_type": "code",
   "execution_count": null,
   "metadata": {},
   "outputs": [],
   "source": []
  },
  {
   "cell_type": "code",
   "execution_count": null,
   "metadata": {},
   "outputs": [],
   "source": []
  },
  {
   "cell_type": "code",
   "execution_count": 41,
   "metadata": {},
   "outputs": [],
   "source": [
    "#NEW TEST... USE A GLM instead of NN"
   ]
  },
  {
   "cell_type": "code",
   "execution_count": 42,
   "metadata": {},
   "outputs": [],
   "source": [
    "import statsmodels"
   ]
  },
  {
   "cell_type": "code",
   "execution_count": 43,
   "metadata": {},
   "outputs": [],
   "source": [
    "# fit a GLM on df_train_active,\n",
    "# using Quantity as the response variable, \n",
    "# Negative binomial"
   ]
  },
  {
   "cell_type": "code",
   "execution_count": 88,
   "metadata": {},
   "outputs": [],
   "source": [
    "import pandas as pd\n",
    "import numpy as np\n",
    "import statsmodels.api as sm\n",
    "import statsmodels.formula.api as smf\n",
    "from statsmodels.genmod.families.family import NegativeBinomial\n",
    "import matplotlib.pyplot as plt\n",
    "import seaborn as sns\n",
    "from patsy import dmatrices"
   ]
  },
  {
   "cell_type": "code",
   "execution_count": 89,
   "metadata": {},
   "outputs": [],
   "source": [
    "\n",
    "# Convert date column to datetime\n",
    "df_train_active['ds'] = pd.to_datetime(df_train_active['ds'])\n",
    "\n",
    "# Extract useful features from the date\n",
    "df_train_active['year'] = df_train_active['ds'].dt.year\n",
    "df_train_active['month'] = df_train_active['ds'].dt.month\n",
    "df_train_active['quarter'] = df_train_active['ds'].dt.quarter\n",
    "\n",
    "# Create dummy variables for categorical features and clean column names\n",
    "# Replace spaces and special characters in column names after one-hot encoding\n",
    "df_model = pd.get_dummies(df_train_active, columns=['Country', 'Product'])\n",
    "\n",
    "# Clean column names - replace spaces and special characters with underscores\n",
    "df_model.columns = [col.replace(' ', '_').replace('-', '_').replace('(', '').replace(')', '') \n",
    "                   for col in df_model.columns]\n",
    "\n",
    "# Define the formula for the model more carefully\n",
    "# Only include columns that are properly formatted for the formula\n",
    "feature_cols = []\n",
    "for col in df_model.columns:\n",
    "    if col.startswith('Country_') or col.startswith('Product_'):\n",
    "        # Make sure the column name is valid for formulas\n",
    "        if ' ' not in col and '(' not in col and ')' not in col and '-' not in col:\n",
    "            feature_cols.append(col)"
   ]
  },
  {
   "cell_type": "code",
   "execution_count": 90,
   "metadata": {},
   "outputs": [],
   "source": [
    "formula = 'Quantity ~ year + C(month) + C(quarter) + ' + ' + '.join(feature_cols)"
   ]
  },
  {
   "cell_type": "code",
   "execution_count": 91,
   "metadata": {},
   "outputs": [
    {
     "name": "stdout",
     "output_type": "stream",
     "text": [
      "                 Generalized Linear Model Regression Results                  \n",
      "==============================================================================\n",
      "Dep. Variable:               Quantity   No. Observations:                49776\n",
      "Model:                            GLM   Df Residuals:                    49656\n",
      "Model Family:        NegativeBinomial   Df Model:                          119\n",
      "Link Function:                    Log   Scale:                          1.0000\n",
      "Method:                          IRLS   Log-Likelihood:            -4.0244e+05\n",
      "Date:                Sun, 06 Apr 2025   Deviance:                       7414.6\n",
      "Time:                        10:19:53   Pearson chi2:                 6.08e+03\n",
      "No. Iterations:                    10   Pseudo R-squ. (CS):            0.04513\n",
      "Covariance Type:            nonrobust                                         \n",
      "============================================================================================================================\n",
      "                                                               coef    std err          z      P>|z|      [0.025      0.975]\n",
      "----------------------------------------------------------------------------------------------------------------------------\n",
      "Intercept                                                    7.8440      1.854      4.232      0.000       4.211      11.477\n",
      "C(month)[T.2]                                               -0.0033      0.022     -0.149      0.881      -0.046       0.040\n",
      "C(month)[T.3]                                               -0.0047      0.022     -0.214      0.831      -0.048       0.038\n",
      "C(month)[T.4]                                               -0.0013      0.013     -0.093      0.926      -0.028       0.025\n",
      "C(month)[T.5]                                                0.0011      0.013      0.084      0.933      -0.025       0.028\n",
      "C(month)[T.6]                                               -0.0020      0.013     -0.146      0.884      -0.028       0.024\n",
      "C(month)[T.7]                                               -0.0022      0.013     -0.164      0.870      -0.029       0.024\n",
      "C(month)[T.8]                                               -0.0024      0.013     -0.177      0.859      -0.029       0.024\n",
      "C(month)[T.9]                                                0.0027      0.013      0.198      0.843      -0.024       0.029\n",
      "C(month)[T.10]                                              -0.0010      0.013     -0.075      0.940      -0.027       0.025\n",
      "C(month)[T.11]                                              -0.0001      0.013     -0.010      0.992      -0.026       0.026\n",
      "C(month)[T.12]                                              -0.0010      0.013     -0.074      0.941      -0.027       0.025\n",
      "C(quarter)[T.2]                                             -0.0021      0.013     -0.155      0.877      -0.028       0.024\n",
      "C(quarter)[T.3]                                             -0.0019      0.013     -0.143      0.886      -0.028       0.024\n",
      "C(quarter)[T.4]                                             -0.0021      0.013     -0.159      0.873      -0.029       0.024\n",
      "Country_Australia[T.True]                                    0.6713      0.187      3.599      0.000       0.306       1.037\n",
      "Country_Brazil[T.True]                                       0.8717      0.187      4.658      0.000       0.505       1.238\n",
      "Country_Egypt[T.True]                                        0.7018      0.186      3.775      0.000       0.337       1.066\n",
      "Country_France[T.True]                                       0.8369      0.186      4.502      0.000       0.473       1.201\n",
      "Country_India[T.True]                                        0.7097      0.187      3.796      0.000       0.343       1.076\n",
      "Country_Italy[T.True]                                        0.7048      0.185      3.814      0.000       0.343       1.067\n",
      "Country_Japan[T.True]                                        0.7260      0.186      3.906      0.000       0.362       1.090\n",
      "Country_Russia[T.True]                                       0.8906      0.186      4.786      0.000       0.526       1.255\n",
      "Country_South_Africa[T.True]                                 0.8311      0.188      4.420      0.000       0.463       1.200\n",
      "Country_United_Kingdom[T.True]                               0.9001      0.186      4.852      0.000       0.536       1.264\n",
      "Product_BreathBliss_Mints[T.True]                            0.1996      0.052      3.802      0.000       0.097       0.302\n",
      "Product_BreatheEasy_Inhalant[T.True]                         0.1307      0.037      3.546      0.000       0.058       0.203\n",
      "Product_BrightBreeze_Baby_Sunscreen_Stick[T.True]           -0.0456      0.057     -0.807      0.420      -0.156       0.065\n",
      "Product_BrightBreeze_Insect_Repellent[T.True]                0.1856      0.047      3.952      0.000       0.094       0.278\n",
      "Product_BrightBreeze_Period_Pain_Relief[T.True]              0.2890      0.056      5.168      0.000       0.179       0.399\n",
      "Product_BrightBreeze_Pet_Odor_Eliminator[T.True]             0.1631      0.059      2.761      0.006       0.047       0.279\n",
      "Product_BrightBreeze_Whitening_Booster[T.True]               0.1881      0.046      4.071      0.000       0.098       0.279\n",
      "Product_BrightBreeze_Window_Cleaner[T.True]                  0.2155      0.057      3.770      0.000       0.103       0.328\n",
      "Product_Brightening_Body_Wash[T.True]                       -0.0569      0.043     -1.330      0.184      -0.141       0.027\n",
      "Product_BriteBite_Toothbrush[T.True]                         0.0130      0.044      0.299      0.765      -0.072       0.098\n",
      "Product_Calming_Creme_Relaxant_Bath[T.True]                  0.1156      0.037      3.122      0.002       0.043       0.188\n",
      "Product_CalmingClean_Bath_Time_Wash[T.True]                  0.2479      0.078      3.193      0.001       0.096       0.400\n",
      "Product_CalmingClean_Diaper_Rash_Cream[T.True]              -0.1046      0.039     -2.709      0.007      -0.180      -0.029\n",
      "Product_CalmingClean_Dog_Brush[T.True]                      -0.0785      0.046     -1.716      0.086      -0.168       0.011\n",
      "Product_CalmingClean_Trash_Bags[T.True]                      0.0663      0.043      1.554      0.120      -0.017       0.150\n",
      "Product_CleanSkin_Acne_Treatment[T.True]                     0.0829      0.059      1.409      0.159      -0.032       0.198\n",
      "Product_CleanSlate_Disinfectant_Spray[T.True]               -0.2232      0.053     -4.188      0.000      -0.328      -0.119\n",
      "Product_CleanSlate_Feminine_Deodorant[T.True]                0.0991      0.044      2.244      0.025       0.013       0.186\n",
      "Product_CleanSlate_Mouthwash[T.True]                         0.2351      0.068      3.452      0.001       0.102       0.369\n",
      "Product_CleanSlate_Stain_Remover[T.True]                     0.4245      0.045      9.429      0.000       0.336       0.513\n",
      "Product_CleanSmile_Floss_Picks[T.True]                      -0.0222      0.053     -0.423      0.673      -0.125       0.081\n",
      "Product_DailyDazzle_Toothpaste[T.True]                      -0.0373      0.119     -0.312      0.755      -0.271       0.197\n",
      "Product_DelicateDew_Sensitive_Wash[T.True]                   0.1806      0.059      3.049      0.002       0.065       0.297\n",
      "Product_DentalDefense_Toothpaste[T.True]                     0.0993      0.041      2.414      0.016       0.019       0.180\n",
      "Product_EasyWash_Laundry_Detergent[T.True]                   0.0338      0.055      0.618      0.537      -0.074       0.141\n",
      "Product_EasyWash_Laundry_Detergent_for_Babies[T.True]        0.0117      0.040      0.292      0.770      -0.067       0.090\n",
      "Product_EasyWash_Laundry_Detergent_for_Delicates[T.True]     0.1379      0.044      3.112      0.002       0.051       0.225\n",
      "Product_EasyWash_Pet_Laundry_Detergent[T.True]              -0.1966      0.052     -3.758      0.000      -0.299      -0.094\n",
      "Product_Exfoliating_Essentials_Scrub[T.True]                -0.0355      0.049     -0.721      0.471      -0.132       0.061\n",
      "Product_FreshFix_Mouthwash[T.True]                           0.1633      0.046      3.526      0.000       0.073       0.254\n",
      "Product_FreshFold_Fabric_Refresher[T.True]                   0.2909      0.048      6.034      0.000       0.196       0.385\n",
      "Product_FreshFusion_All_Purpose_Cleaner[T.True]              0.3776      0.049      7.786      0.000       0.283       0.473\n",
      "Product_FreshFusion_Baby_Wipes[T.True]                       0.2828      0.043      6.644      0.000       0.199       0.366\n",
      "Product_FreshFusion_Detergent[T.True]                        0.1292      0.041      3.150      0.002       0.049       0.210\n",
      "Product_FreshFusion_Diaper_Rash_Remedy[T.True]               0.2203      0.046      4.831      0.000       0.131       0.310\n",
      "Product_FreshFusion_Flea_and_Tick_Spray[T.True]              0.3221      0.045      7.197      0.000       0.234       0.410\n",
      "Product_FreshFusion_Hair_Mask[T.True]                        0.5793      0.061      9.473      0.000       0.459       0.699\n",
      "Product_FreshFusion_Mouth_Rinse[T.True]                     -0.1909      0.089     -2.140      0.032      -0.366      -0.016\n",
      "Product_FreshStart_Toothpaste[T.True]                        0.3461      0.063      5.527      0.000       0.223       0.469\n",
      "Product_GentleGlow_Baby_Face_Wash[T.True]                    0.0451      0.050      0.910      0.363      -0.052       0.142\n",
      "Product_GentleGlow_Baby_Sunscreen[T.True]                    0.1466      0.056      2.629      0.009       0.037       0.256\n",
      "Product_GentleGlow_Dish_Soap[T.True]                         0.1557      0.041      3.801      0.000       0.075       0.236\n",
      "Product_GentleGlow_Face_Cleanser[T.True]                     0.0195      0.044      0.445      0.656      -0.067       0.106\n",
      "Product_GentleGlow_Face_Lotion[T.True]                       0.1292      0.043      2.981      0.003       0.044       0.214\n",
      "Product_GentleGlow_Pet_Grooming_Kit[T.True]                 -0.3978      0.062     -6.383      0.000      -0.520      -0.276\n",
      "Product_HydraHydrate_Hand_Cream[T.True]                      0.1351      0.066      2.050      0.040       0.006       0.264\n",
      "Product_Hydrating_Honey_Body_Lotion[T.True]                  0.1974      0.043      4.609      0.000       0.113       0.281\n",
      "Product_HydratingHoney_Pet_Wipes[T.True]                     0.0386      0.063      0.610      0.542      -0.085       0.163\n",
      "Product_LittleLullaby_Diaper_Cream[T.True]                   0.2473      0.052      4.785      0.000       0.146       0.349\n",
      "Product_LittleLullaby_Diaper_Liners[T.True]                  0.2232      0.038      5.878      0.000       0.149       0.298\n",
      "Product_LuminousLip_Care[T.True]                             0.1502      0.075      2.004      0.045       0.003       0.297\n",
      "Product_LuminousLocks_Shampoo[T.True]                        0.1818      0.048      3.808      0.000       0.088       0.275\n",
      "Product_MorningBreeze_Gum_Care[T.True]                      -0.2127      0.051     -4.193      0.000      -0.312      -0.113\n",
      "Product_MorningMint[T.True]                                 -0.6452      0.057    -11.349      0.000      -0.757      -0.534\n",
      "Product_MorningMist_Deodorant[T.True]                        0.3877      0.045      8.651      0.000       0.300       0.476\n",
      "Product_OralEase_Gel[T.True]                                 0.3605      0.035     10.222      0.000       0.291       0.430\n",
      "Product_OralEase_Plus_Toothbrush[T.True]                    -0.3636      0.047     -7.777      0.000      -0.455      -0.272\n",
      "Product_PurePaw_Dog_Shampoo[T.True]                         -0.0869      0.051     -1.695      0.090      -0.187       0.014\n",
      "Product_PurePore_Baby_Lotion[T.True]                        -0.1071      0.048     -2.253      0.024      -0.200      -0.014\n",
      "Product_PurePore_Baby_Skincare_Set[T.True]                   0.3816      0.047      8.114      0.000       0.289       0.474\n",
      "Product_PurePore_Insect_Repellent_Spray[T.True]              0.0634      0.042      1.497      0.135      -0.020       0.146\n",
      "Product_PurePore_Toner[T.True]                               0.0212      0.050      0.423      0.672      -0.077       0.120\n",
      "Product_Purezza_Body_Wash[T.True]                            0.0546      0.047      1.166      0.244      -0.037       0.146\n",
      "Product_RadiantRinse_Color_Protector[T.True]                 0.3649      0.089      4.078      0.000       0.189       0.540\n",
      "Product_RadiantRose_Baby_Massage_Oil[T.True]                 0.0363      0.044      0.833      0.405      -0.049       0.122\n",
      "Product_RadiantRose_Face_Mask[T.True]                       -0.2735      0.057     -4.799      0.000      -0.385      -0.162\n",
      "Product_RadiantRose_Glass_Cleaner[T.True]                    0.0731      0.046      1.605      0.108      -0.016       0.162\n",
      "Product_RadiantRose_Hair_Serum[T.True]                       0.2935      0.086      3.406      0.001       0.125       0.462\n",
      "Product_RadiantRover_Pet_Conditioner[T.True]                 0.1703      0.037      4.594      0.000       0.098       0.243\n",
      "Product_Refreshing_Rose_Body_Oil[T.True]                    -0.1748      0.044     -3.989      0.000      -0.261      -0.089\n",
      "Product_SilkSmooth_Conditioner[T.True]                       0.1636      0.059      2.767      0.006       0.048       0.279\n",
      "Product_SilkSmooth_Exfoliating_Scrub[T.True]                 0.1767      0.042      4.162      0.000       0.093       0.260\n",
      "Product_SilkySkin_Baby_Cream[T.True]                         0.1549      0.051      3.031      0.002       0.055       0.255\n",
      "Product_SilkySkin_Baby_Moisturizer[T.True]                   0.2760      0.045      6.105      0.000       0.187       0.365\n",
      "Product_SilkySkin_Moisturizing_Cream[T.True]                 0.1509      0.050      2.999      0.003       0.052       0.250\n",
      "Product_SkinSational_Moisturizer[T.True]                    -0.2473      0.056     -4.442      0.000      -0.356      -0.138\n",
      "Product_SmellSational_Baby_Room_Spray[T.True]                0.2542      0.083      3.063      0.002       0.092       0.417\n",
      "Product_SmellSational_Intimate_Spray[T.True]                 0.0478      0.039      1.222      0.222      -0.029       0.124\n",
      "Product_SmellSational_Odor_Eliminator[T.True]               -0.0875      0.046     -1.885      0.059      -0.179       0.004\n",
      "Product_SmellSational_Pet_Deodorizer[T.True]                 0.4003      0.041      9.743      0.000       0.320       0.481\n",
      "Product_SmileSavvy_Tooth_Whitening_Kit[T.True]               0.3934      0.069      5.716      0.000       0.259       0.528\n",
      "Product_SmileShield_Whitening_Strips[T.True]                 0.2898      0.044      6.531      0.000       0.203       0.377\n",
      "Product_SmilesSoPure_Waterpik[T.True]                       -0.2574      0.064     -4.006      0.000      -0.383      -0.131\n",
      "Product_SmoothOperator_Shaving_Gel[T.True]                  -0.3612      0.056     -6.423      0.000      -0.471      -0.251\n",
      "Product_SoftStep_Baby_Shampoo[T.True]                        0.2716      0.049      5.568      0.000       0.176       0.367\n",
      "Product_SoftStep_Shaving_Cream[T.True]                       0.1864      0.048      3.923      0.000       0.093       0.280\n",
      "Product_SoftStep_Shaving_Cream_for_Women[T.True]            -0.1157      0.098     -1.176      0.240      -0.309       0.077\n",
      "Product_SoothingPaws_Cat_Lotion[T.True]                     -0.2539      0.049     -5.134      0.000      -0.351      -0.157\n",
      "Product_SoothingSerenity_Air_Freshener[T.True]               0.2300      0.044      5.209      0.000       0.143       0.317\n",
      "Product_SoothingSerenity_Baby_Oil[T.True]                   -0.3935      0.059     -6.682      0.000      -0.509      -0.278\n",
      "Product_SoothingSerenity_Baby_Rub[T.True]                   -0.2252      0.054     -4.186      0.000      -0.331      -0.120\n",
      "Product_SoothingSerenity_Hand_Sanitizer[T.True]              0.2349      0.078      3.014      0.003       0.082       0.388\n",
      "Product_SoothingSerenity_Humidifier[T.True]                  0.2472      0.058      4.274      0.000       0.134       0.361\n",
      "Product_SoothingSerenity_Scalp_Treatment[T.True]            -0.0767      0.046     -1.656      0.098      -0.168       0.014\n",
      "Product_SoothingSoft_Fabric_Softener[T.True]                -0.5994      0.051    -11.646      0.000      -0.700      -0.499\n",
      "Product_SparklingClean_All_Purpose_Cleaner[T.True]           0.3698      0.041      9.015      0.000       0.289       0.450\n",
      "Product_SparklingGlow_Toothpaste[T.True]                     0.1134      0.039      2.925      0.003       0.037       0.189\n",
      "Product_SparklingSmile_Water_Flosser[T.True]                -0.2305      0.054     -4.234      0.000      -0.337      -0.124\n",
      "Product_SunShield_SPF_50_Lotion[T.True]                      0.2765      0.053      5.177      0.000       0.172       0.381\n",
      "year                                                        -0.0008      0.001     -0.799      0.424      -0.003       0.001\n",
      "============================================================================================================================\n"
     ]
    }
   ],
   "source": [
    "nb_model = smf.glm(formula=formula, \n",
    "                  data=df_model, \n",
    "                  family=sm.families.NegativeBinomial(alpha=1.0))\n",
    "\n",
    "nb_results = nb_model.fit()\n",
    "\n",
    "print(nb_results.summary())"
   ]
  },
  {
   "cell_type": "code",
   "execution_count": 48,
   "metadata": {},
   "outputs": [
    {
     "name": "stdout",
     "output_type": "stream",
     "text": [
      "                 Generalized Linear Model Regression Results                  \n",
      "==============================================================================\n",
      "Dep. Variable:               Quantity   No. Observations:                49776\n",
      "Model:                            GLM   Df Residuals:                    49656\n",
      "Model Family:                 Poisson   Df Model:                          119\n",
      "Link Function:                    Log   Scale:                          1.0000\n",
      "Method:                          IRLS   Log-Likelihood:            -3.7984e+06\n",
      "Date:                Sun, 06 Apr 2025   Deviance:                   7.1564e+06\n",
      "Time:                        10:13:04   Pearson chi2:                 6.87e+06\n",
      "No. Iterations:                     5   Pseudo R-squ. (CS):              1.000\n",
      "Covariance Type:            nonrobust                                         \n",
      "============================================================================================================================\n",
      "                                                               coef    std err          z      P>|z|      [0.025      0.975]\n",
      "----------------------------------------------------------------------------------------------------------------------------\n",
      "Intercept                                                   11.1724      0.053    211.175      0.000      11.069      11.276\n",
      "C(month)[T.2]                                               -0.0027      0.001     -4.338      0.000      -0.004      -0.001\n",
      "C(month)[T.3]                                               -0.0039      0.001     -6.284      0.000      -0.005      -0.003\n",
      "C(month)[T.4]                                               -0.0009      0.000     -2.269      0.023      -0.002      -0.000\n",
      "C(month)[T.5]                                                0.0006      0.000      1.438      0.150      -0.000       0.001\n",
      "C(month)[T.6]                                               -0.0015      0.000     -4.001      0.000      -0.002      -0.001\n",
      "C(month)[T.7]                                               -0.0013      0.000     -3.411      0.001      -0.002      -0.001\n",
      "C(month)[T.8]                                               -0.0020      0.000     -5.179      0.000      -0.003      -0.001\n",
      "C(month)[T.9]                                                0.0018      0.000      4.572      0.000       0.001       0.003\n",
      "C(month)[T.10]                                              -0.0008      0.000     -1.959      0.050      -0.002    5.36e-07\n",
      "C(month)[T.11]                                           -8.891e-05      0.000     -0.231      0.817      -0.001       0.001\n",
      "C(month)[T.12]                                              -0.0006      0.000     -1.606      0.108      -0.001       0.000\n",
      "C(quarter)[T.2]                                             -0.0019      0.000     -4.838      0.000      -0.003      -0.001\n",
      "C(quarter)[T.3]                                             -0.0015      0.000     -4.027      0.000      -0.002      -0.001\n",
      "C(quarter)[T.4]                                             -0.0015      0.000     -3.799      0.000      -0.002      -0.001\n",
      "Country_Australia[T.True]                                    1.0279      0.005    193.214      0.000       1.017       1.038\n",
      "Country_Brazil[T.True]                                       1.2042      0.005    225.330      0.000       1.194       1.215\n",
      "Country_Egypt[T.True]                                        1.0299      0.005    194.019      0.000       1.019       1.040\n",
      "Country_France[T.True]                                       1.1715      0.005    220.807      0.000       1.161       1.182\n",
      "Country_India[T.True]                                        1.0626      0.005    199.171      0.000       1.052       1.073\n",
      "Country_Italy[T.True]                                        1.0416      0.005    197.483      0.000       1.031       1.052\n",
      "Country_Japan[T.True]                                        1.0605      0.005    199.929      0.000       1.050       1.071\n",
      "Country_Russia[T.True]                                       1.2007      0.005    226.164      0.000       1.190       1.211\n",
      "Country_South_Africa[T.True]                                 1.1529      0.005    213.864      0.000       1.142       1.163\n",
      "Country_United_Kingdom[T.True]                               1.2206      0.005    230.564      0.000       1.210       1.231\n",
      "Product_BreathBliss_Mints[T.True]                            0.2358      0.001    167.869      0.000       0.233       0.239\n",
      "Product_BreatheEasy_Inhalant[T.True]                         0.1770      0.001    171.743      0.000       0.175       0.179\n",
      "Product_BrightBreeze_Baby_Sunscreen_Stick[T.True]            0.0147      0.002      8.624      0.000       0.011       0.018\n",
      "Product_BrightBreeze_Insect_Repellent[T.True]                0.2449      0.001    189.138      0.000       0.242       0.247\n",
      "Product_BrightBreeze_Period_Pain_Relief[T.True]              0.2859      0.002    185.844      0.000       0.283       0.289\n",
      "Product_BrightBreeze_Pet_Odor_Eliminator[T.True]             0.1822      0.002    111.101      0.000       0.179       0.185\n",
      "Product_BrightBreeze_Whitening_Booster[T.True]               0.2111      0.001    160.570      0.000       0.209       0.214\n",
      "Product_BrightBreeze_Window_Cleaner[T.True]                  0.2222      0.002    140.297      0.000       0.219       0.225\n",
      "Product_Brightening_Body_Wash[T.True]                       -0.0186      0.001    -14.215      0.000      -0.021      -0.016\n",
      "Product_BriteBite_Toothbrush[T.True]                         0.0560      0.001     42.572      0.000       0.053       0.059\n",
      "Product_Calming_Creme_Relaxant_Bath[T.True]                  0.1594      0.001    152.603      0.000       0.157       0.161\n",
      "Product_CalmingClean_Bath_Time_Wash[T.True]                  0.2916      0.002    140.004      0.000       0.288       0.296\n",
      "Product_CalmingClean_Diaper_Rash_Cream[T.True]              -0.0442      0.001    -37.603      0.000      -0.046      -0.042\n",
      "Product_CalmingClean_Dog_Brush[T.True]                      -0.0347      0.001    -24.681      0.000      -0.037      -0.032\n",
      "Product_CalmingClean_Trash_Bags[T.True]                      0.1265      0.001    103.547      0.000       0.124       0.129\n",
      "Product_CleanSkin_Acne_Treatment[T.True]                     0.0905      0.002     52.435      0.000       0.087       0.094\n",
      "Product_CleanSlate_Disinfectant_Spray[T.True]               -0.1864      0.002   -104.153      0.000      -0.190      -0.183\n",
      "Product_CleanSlate_Feminine_Deodorant[T.True]                0.1423      0.001    113.750      0.000       0.140       0.145\n",
      "Product_CleanSlate_Mouthwash[T.True]                         0.2768      0.002    149.322      0.000       0.273       0.280\n",
      "Product_CleanSlate_Stain_Remover[T.True]                     0.4556      0.001    396.204      0.000       0.453       0.458\n",
      "Product_CleanSmile_Floss_Picks[T.True]                       0.0226      0.002     14.274      0.000       0.020       0.026\n",
      "Product_DailyDazzle_Toothpaste[T.True]                       0.0108      0.004      2.909      0.004       0.004       0.018\n",
      "Product_DelicateDew_Sensitive_Wash[T.True]                   0.2219      0.002    135.214      0.000       0.219       0.225\n",
      "Product_DentalDefense_Toothpaste[T.True]                     0.1439      0.001    123.638      0.000       0.142       0.146\n",
      "Product_EasyWash_Laundry_Detergent[T.True]                   0.0489      0.002     30.262      0.000       0.046       0.052\n",
      "Product_EasyWash_Laundry_Detergent_for_Babies[T.True]        0.0323      0.001     26.384      0.000       0.030       0.035\n",
      "Product_EasyWash_Laundry_Detergent_for_Delicates[T.True]     0.2027      0.001    164.111      0.000       0.200       0.205\n",
      "Product_EasyWash_Pet_Laundry_Detergent[T.True]              -0.1785      0.002   -104.294      0.000      -0.182      -0.175\n",
      "Product_Exfoliating_Essentials_Scrub[T.True]                 0.0002      0.001      0.130      0.896      -0.003       0.003\n",
      "Product_FreshFix_Mouthwash[T.True]                           0.1600      0.001    122.244      0.000       0.157       0.163\n",
      "Product_FreshFold_Fabric_Refresher[T.True]                   0.3422      0.001    272.971      0.000       0.340       0.345\n",
      "Product_FreshFusion_All_Purpose_Cleaner[T.True]              0.4048      0.001    320.770      0.000       0.402       0.407\n",
      "Product_FreshFusion_Baby_Wipes[T.True]                       0.2899      0.001    248.349      0.000       0.288       0.292\n",
      "Product_FreshFusion_Detergent[T.True]                        0.1390      0.001    116.601      0.000       0.137       0.141\n",
      "Product_FreshFusion_Diaper_Rash_Remedy[T.True]               0.2377      0.001    189.339      0.000       0.235       0.240\n",
      "Product_FreshFusion_Flea_and_Tick_Spray[T.True]              0.3432      0.001    286.265      0.000       0.341       0.346\n",
      "Product_FreshFusion_Hair_Mask[T.True]                        0.5975      0.001    405.092      0.000       0.595       0.600\n",
      "Product_FreshFusion_Mouth_Rinse[T.True]                     -0.1450      0.003    -51.708      0.000      -0.150      -0.139\n",
      "Product_FreshStart_Toothpaste[T.True]                        0.3883      0.002    242.295      0.000       0.385       0.391\n",
      "Product_GentleGlow_Baby_Face_Wash[T.True]                    0.0862      0.001     59.167      0.000       0.083       0.089\n",
      "Product_GentleGlow_Baby_Sunscreen[T.True]                    0.1898      0.002    121.692      0.000       0.187       0.193\n",
      "Product_GentleGlow_Dish_Soap[T.True]                         0.1768      0.001    149.707      0.000       0.174       0.179\n",
      "Product_GentleGlow_Face_Cleanser[T.True]                     0.0425      0.001     33.176      0.000       0.040       0.045\n",
      "Product_GentleGlow_Face_Lotion[T.True]                       0.1809      0.001    148.957      0.000       0.179       0.183\n",
      "Product_GentleGlow_Pet_Grooming_Kit[T.True]                 -0.3318      0.002   -152.947      0.000      -0.336      -0.328\n",
      "Product_HydraHydrate_Hand_Cream[T.True]                      0.1655      0.002     85.285      0.000       0.162       0.169\n",
      "Product_Hydrating_Honey_Body_Lotion[T.True]                  0.2284      0.001    193.751      0.000       0.226       0.231\n",
      "Product_HydratingHoney_Pet_Wipes[T.True]                     0.0675      0.002     37.309      0.000       0.064       0.071\n",
      "Product_LittleLullaby_Diaper_Cream[T.True]                   0.2518      0.001    176.804      0.000       0.249       0.255\n",
      "Product_LittleLullaby_Diaper_Liners[T.True]                  0.2637      0.001    255.514      0.000       0.262       0.266\n",
      "Product_LuminousLip_Care[T.True]                             0.2075      0.002    102.672      0.000       0.204       0.211\n",
      "Product_LuminousLocks_Shampoo[T.True]                        0.2126      0.001    158.668      0.000       0.210       0.215\n",
      "Product_MorningBreeze_Gum_Care[T.True]                      -0.2120      0.002   -125.893      0.000      -0.215      -0.209\n",
      "Product_MorningMint[T.True]                                 -0.5992      0.002   -275.318      0.000      -0.603      -0.595\n",
      "Product_MorningMist_Deodorant[T.True]                        0.3960      0.001    340.490      0.000       0.394       0.398\n",
      "Product_OralEase_Gel[T.True]                                 0.3958      0.001    428.885      0.000       0.394       0.398\n",
      "Product_OralEase_Plus_Toothbrush[T.True]                    -0.2829      0.002   -173.838      0.000      -0.286      -0.280\n",
      "Product_PurePaw_Dog_Shampoo[T.True]                         -0.0601      0.002    -38.438      0.000      -0.063      -0.057\n",
      "Product_PurePore_Baby_Lotion[T.True]                        -0.0534      0.001    -35.804      0.000      -0.056      -0.050\n",
      "Product_PurePore_Baby_Skincare_Set[T.True]                   0.4176      0.001    342.441      0.000       0.415       0.420\n",
      "Product_PurePore_Insect_Repellent_Spray[T.True]              0.1149      0.001     94.071      0.000       0.112       0.117\n",
      "Product_PurePore_Toner[T.True]                               0.0825      0.001     56.257      0.000       0.080       0.085\n",
      "Product_Purezza_Body_Wash[T.True]                            0.0702      0.001     49.403      0.000       0.067       0.073\n",
      "Product_RadiantRinse_Color_Protector[T.True]                 0.3909      0.002    165.520      0.000       0.386       0.396\n",
      "Product_RadiantRose_Baby_Massage_Oil[T.True]                 0.0917      0.001     73.297      0.000       0.089       0.094\n",
      "Product_RadiantRose_Face_Mask[T.True]                       -0.2631      0.002   -138.342      0.000      -0.267      -0.259\n",
      "Product_RadiantRose_Glass_Cleaner[T.True]                    0.1114      0.001     86.201      0.000       0.109       0.114\n",
      "Product_RadiantRose_Hair_Serum[T.True]                       0.3509      0.002    154.393      0.000       0.346       0.355\n",
      "Product_RadiantRover_Pet_Conditioner[T.True]                 0.2132      0.001    206.420      0.000       0.211       0.215\n",
      "Product_Refreshing_Rose_Body_Oil[T.True]                    -0.1380      0.001    -97.906      0.000      -0.141      -0.135\n",
      "Product_SilkSmooth_Conditioner[T.True]                       0.1988      0.002    121.942      0.000       0.196       0.202\n",
      "Product_SilkSmooth_Exfoliating_Scrub[T.True]                 0.2015      0.001    168.557      0.000       0.199       0.204\n",
      "Product_SilkySkin_Baby_Cream[T.True]                         0.1625      0.001    111.867      0.000       0.160       0.165\n",
      "Product_SilkySkin_Baby_Moisturizer[T.True]                   0.2956      0.001    241.268      0.000       0.293       0.298\n",
      "Product_SilkySkin_Moisturizing_Cream[T.True]                 0.2279      0.001    165.323      0.000       0.225       0.231\n",
      "Product_SkinSational_Moisturizer[T.True]                    -0.2161      0.002   -114.829      0.000      -0.220      -0.212\n",
      "Product_SmellSational_Baby_Room_Spray[T.True]                0.2829      0.002    124.970      0.000       0.278       0.287\n",
      "Product_SmellSational_Intimate_Spray[T.True]                 0.0967      0.001     85.045      0.000       0.094       0.099\n",
      "Product_SmellSational_Odor_Eliminator[T.True]               -0.0477      0.001    -32.673      0.000      -0.051      -0.045\n",
      "Product_SmellSational_Pet_Deodorizer[T.True]                 0.4157      0.001    390.435      0.000       0.414       0.418\n",
      "Product_SmileSavvy_Tooth_Whitening_Kit[T.True]               0.4520      0.002    271.288      0.000       0.449       0.455\n",
      "Product_SmileShield_Whitening_Strips[T.True]                 0.3120      0.001    267.093      0.000       0.310       0.314\n",
      "Product_SmilesSoPure_Waterpik[T.True]                       -0.2595      0.002   -118.645      0.000      -0.264      -0.255\n",
      "Product_SmoothOperator_Shaving_Gel[T.True]                  -0.3451      0.002   -174.227      0.000      -0.349      -0.341\n",
      "Product_SoftStep_Baby_Shampoo[T.True]                        0.3018      0.001    229.528      0.000       0.299       0.304\n",
      "Product_SoftStep_Shaving_Cream[T.True]                       0.2298      0.001    173.746      0.000       0.227       0.232\n",
      "Product_SoftStep_Shaving_Cream_for_Women[T.True]            -0.0709      0.003    -23.273      0.000      -0.077      -0.065\n",
      "Product_SoothingPaws_Cat_Lotion[T.True]                     -0.2353      0.002   -137.268      0.000      -0.239      -0.232\n",
      "Product_SoothingSerenity_Air_Freshener[T.True]               0.2328      0.001    189.606      0.000       0.230       0.235\n",
      "Product_SoothingSerenity_Baby_Oil[T.True]                   -0.3852      0.002   -182.645      0.000      -0.389      -0.381\n",
      "Product_SoothingSerenity_Baby_Rub[T.True]                   -0.1894      0.002   -106.927      0.000      -0.193      -0.186\n",
      "Product_SoothingSerenity_Hand_Sanitizer[T.True]              0.2423      0.002    108.610      0.000       0.238       0.247\n",
      "Product_SoothingSerenity_Humidifier[T.True]                  0.2683      0.002    167.264      0.000       0.265       0.271\n",
      "Product_SoothingSerenity_Scalp_Treatment[T.True]            -0.0604      0.001    -41.278      0.000      -0.063      -0.057\n",
      "Product_SoothingSoft_Fabric_Softener[T.True]                -0.5262      0.002   -262.004      0.000      -0.530      -0.522\n",
      "Product_SparklingClean_All_Purpose_Cleaner[T.True]           0.3952      0.001    366.199      0.000       0.393       0.397\n",
      "Product_SparklingGlow_Toothpaste[T.True]                     0.1413      0.001    126.957      0.000       0.139       0.143\n",
      "Product_SparklingSmile_Water_Flosser[T.True]                -0.2014      0.002   -110.557      0.000      -0.205      -0.198\n",
      "Product_SunShield_SPF_50_Lotion[T.True]                      0.3338      0.001    236.728      0.000       0.331       0.337\n",
      "year                                                        -0.0026   2.91e-05    -90.897      0.000      -0.003      -0.003\n",
      "============================================================================================================================\n"
     ]
    }
   ],
   "source": [
    "# fit also a Poisson model\n",
    "poisson_model = smf.glm(formula=formula, \n",
    "                  data=df_model, \n",
    "                  family=sm.families.Poisson())\n",
    "poisson_results = poisson_model.fit()\n",
    "print(poisson_results.summary())"
   ]
  },
  {
   "cell_type": "code",
   "execution_count": 92,
   "metadata": {},
   "outputs": [],
   "source": [
    "# best prediction, check if the product is active. if it is predict with glm, else leave it as 0\n",
    "df_forecast_glm = df_validation.copy()"
   ]
  },
  {
   "cell_type": "code",
   "execution_count": 93,
   "metadata": {},
   "outputs": [
    {
     "data": {
      "text/plain": [
       "(np.int64(5852515), np.int64(5852515))"
      ]
     },
     "execution_count": 93,
     "metadata": {},
     "output_type": "execute_result"
    }
   ],
   "source": [
    "df_forecast_glm['Quantity'].sum(), df_validation['Quantity'].sum()"
   ]
  },
  {
   "cell_type": "code",
   "execution_count": 94,
   "metadata": {},
   "outputs": [],
   "source": [
    "# now use the glm to predict the values\n",
    "\n",
    "df_forecast_glm['year'] = df_forecast_glm['ds'].dt.year\n",
    "df_forecast_glm['month'] = df_forecast_glm['ds'].dt.month\n",
    "df_forecast_glm['quarter'] = df_forecast_glm['ds'].dt.quarter\n",
    "df_forecast_glm['Country'] = df_forecast_glm['unique_id'].str.split('_').str[0]\n",
    "df_forecast_glm['Product'] = df_forecast_glm['unique_id'].str.split('_').str[1]\n",
    "\n",
    "# Create dummy variables for categorical features and clean column names\n",
    "df_forecast_glm = pd.get_dummies(df_forecast_glm, columns=['Country', 'Product'])\n",
    "# Clean column names - replace spaces and special characters with underscores\n",
    "df_forecast_glm.columns = [col.replace(' ', '_').replace('-', '_').replace('(', '').replace(')', '') \n",
    "                   for col in df_forecast_glm.columns]\n",
    "# Define the formula for the model more carefully\n",
    "# Only include columns that are properly formatted for the formula\n",
    "feature_cols = []\n",
    "for col in df_forecast_glm.columns:\n",
    "    if col.startswith('Country_') or col.startswith('Product_'):\n",
    "        # Make sure the column name is valid for formulas\n",
    "        if ' ' not in col and '(' not in col and ')' not in col and '-' not in col:\n",
    "            feature_cols.append(col)\n",
    "# Predict the values\n",
    "df_forecast_glm['predicted'] = poisson_results.predict(df_forecast_glm)\n",
    "df_forecast_glm['predicted'] = df_forecast_glm['predicted'].clip(lower=0)\n",
    "df_forecast_glm['predicted'] = df_forecast_glm['predicted'].astype(int)"
   ]
  },
  {
   "cell_type": "code",
   "execution_count": 95,
   "metadata": {},
   "outputs": [],
   "source": [
    "# now take only the prediction for the active values\n",
    "for id in df_train_active['unique_id'].unique():\n",
    "    # for those ids, replace 'Quantity' with the values of predicted\n",
    "    mask = df_forecast_glm['unique_id'] == id\n",
    "    df_forecast_glm.loc[mask, 'Quantity'] = df_forecast_glm.loc[mask, 'predicted']"
   ]
  },
  {
   "cell_type": "code",
   "execution_count": 96,
   "metadata": {},
   "outputs": [],
   "source": [
    "# Ensure the 'ds' column is in datetime format\n",
    "df_forecast_glm['ds'] = pd.to_datetime(df_forecast_glm['ds'])"
   ]
  },
  {
   "cell_type": "code",
   "execution_count": 97,
   "metadata": {},
   "outputs": [],
   "source": [
    "# save to csv in the proper format\n",
    "df_forecast_glm = submission_formatter(df_forecast_glm)"
   ]
  },
  {
   "cell_type": "code",
   "execution_count": 98,
   "metadata": {},
   "outputs": [],
   "source": [
    "df_forecast_glm_to_save = df_forecast_glm[['Country', 'Product', 'Month', 'Quantity']]"
   ]
  },
  {
   "cell_type": "code",
   "execution_count": 99,
   "metadata": {},
   "outputs": [],
   "source": [
    "df_forecast_glm_to_save.to_csv('outputs/01_output_prediction_glm.csv', index=False)"
   ]
  },
  {
   "cell_type": "code",
   "execution_count": null,
   "metadata": {},
   "outputs": [],
   "source": []
  }
 ],
 "metadata": {
  "kernelspec": {
   "display_name": ".venv",
   "language": "python",
   "name": "python3"
  },
  "language_info": {
   "codemirror_mode": {
    "name": "ipython",
    "version": 3
   },
   "file_extension": ".py",
   "mimetype": "text/x-python",
   "name": "python",
   "nbconvert_exporter": "python",
   "pygments_lexer": "ipython3",
   "version": "3.12.9"
  }
 },
 "nbformat": 4,
 "nbformat_minor": 2
}
