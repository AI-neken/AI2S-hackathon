{
 "cells": [
  {
   "cell_type": "code",
   "execution_count": 1,
   "id": "6336ad17",
   "metadata": {},
   "outputs": [],
   "source": [
    "import pandas as pd\n",
    "from statsforecast import StatsForecast\n",
    "from statsforecast.models import HoltWinters\n",
    "from utils import preprocess\n",
    "from tqdm import tqdm\n",
    "\n",
    "df = pd.read_csv('data/01_input_history.csv')\n",
    "df.head()\n",
    "df_train_null, df_train_inactive, df_train_active = preprocess.preprocess_ex1_final_sub(df)"
   ]
  },
  {
   "cell_type": "code",
   "execution_count": 2,
   "id": "71282dd2",
   "metadata": {},
   "outputs": [
    {
     "data": {
      "text/plain": [
       "StatsForecast(models=[HoltWinters])"
      ]
     },
     "execution_count": 2,
     "metadata": {},
     "output_type": "execute_result"
    }
   ],
   "source": [
    "# Forecasting horizon\n",
    "H = 12  \n",
    "\n",
    "sf = StatsForecast(\n",
    "    models=[\n",
    "        HoltWinters(season_length=12, error_type=\"A\"),\n",
    "    ],\n",
    "    freq='MS',\n",
    "    n_jobs=-1\n",
    ")\n",
    "\n",
    "# Fit the model\n",
    "sf.fit(\n",
    "    df_train_active[['unique_id', 'ds', 'Quantity']],\n",
    "    target_col='Quantity',\n",
    "    )"
   ]
  },
  {
   "cell_type": "code",
   "execution_count": 3,
   "id": "f5bf361e",
   "metadata": {},
   "outputs": [],
   "source": [
    "y_hat = sf.predict(h=H)\n",
    "y_hat['Quantity'] = y_hat[['HoltWinters']].astype(int)"
   ]
  },
  {
   "cell_type": "code",
   "execution_count": 4,
   "id": "26500a40",
   "metadata": {},
   "outputs": [],
   "source": [
    "import numpy as np\n",
    "zeros_ids = list(df_train_null['unique_id'].unique()) + list(df_train_inactive['unique_id'].unique())\n",
    "\n",
    "# Generate monthly dates for 2024\n",
    "date_range = pd.date_range(start='2024-01-01', periods=12, freq='MS')\n",
    "\n",
    "# Create the expanded dataframe\n",
    "df_zeros = pd.DataFrame({\n",
    "    'unique_id': np.repeat(zeros_ids, len(date_range)),\n",
    "    'ds': np.tile(date_range, len(zeros_ids)),\n",
    "    'Quantity': 0\n",
    "})"
   ]
  },
  {
   "cell_type": "code",
   "execution_count": 5,
   "id": "7bf4e22f",
   "metadata": {},
   "outputs": [
    {
     "data": {
      "text/plain": [
       "(12000, 3)"
      ]
     },
     "execution_count": 5,
     "metadata": {},
     "output_type": "execute_result"
    }
   ],
   "source": [
    "final_df = pd.concat([y_hat.drop(columns='HoltWinters'), df_zeros], ignore_index=True)\n",
    "final_df.shape"
   ]
  },
  {
   "cell_type": "code",
   "execution_count": 6,
   "id": "3a7f09a2",
   "metadata": {},
   "outputs": [],
   "source": [
    "def restore_original_format(date_column):\n",
    "    return date_column.dt.strftime('%b%Y')\n",
    "final_df['Month'] = restore_original_format(final_df['ds'])"
   ]
  },
  {
   "cell_type": "code",
   "execution_count": 7,
   "id": "d3a7b743",
   "metadata": {},
   "outputs": [],
   "source": [
    "for id in final_df['unique_id'].unique():\n",
    "    final_df.loc[final_df['unique_id'] == id, 'Country'] = id.split('_')[0]\n",
    "    final_df.loc[final_df['unique_id'] == id, 'Product'] = id.split('_')[1]"
   ]
  },
  {
   "cell_type": "code",
   "execution_count": 8,
   "id": "ac3b7618",
   "metadata": {},
   "outputs": [],
   "source": [
    "final_df[['Country','Product','Month','Quantity']].to_csv('submissions/01_output_prediction_1239.csv', index=False)"
   ]
  }
 ],
 "metadata": {
  "kernelspec": {
   "display_name": "Python 3",
   "language": "python",
   "name": "python3"
  },
  "language_info": {
   "codemirror_mode": {
    "name": "ipython",
    "version": 3
   },
   "file_extension": ".py",
   "mimetype": "text/x-python",
   "name": "python",
   "nbconvert_exporter": "python",
   "pygments_lexer": "ipython3",
   "version": "3.12.1"
  }
 },
 "nbformat": 4,
 "nbformat_minor": 5
}
