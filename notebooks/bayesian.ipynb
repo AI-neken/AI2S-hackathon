{
 "cells": [
  {
   "cell_type": "markdown",
   "id": "edc221fb",
   "metadata": {},
   "source": [
    "# Bayesian Hierarchical Poisson model"
   ]
  },
  {
   "cell_type": "code",
   "execution_count": 19,
   "id": "7c8611b1",
   "metadata": {},
   "outputs": [],
   "source": [
    "import pymc as pm\n",
    "import pandas as pd\n",
    "import numpy as np\n",
    "from utils import preprocess"
   ]
  },
  {
   "cell_type": "code",
   "execution_count": 20,
   "id": "7052b338",
   "metadata": {},
   "outputs": [],
   "source": [
    "df = pd.read_csv('data/01_input_history.csv')\n",
    "df.head()\n",
    "\n",
    "\n",
    "df_train_null, df_train_inactive, df_train_active, df_validation = preprocess.preprocess_ex1(df)\n",
    "\n",
    "df_train_merged = df_train_active#pd.merge(df_train_active, df_train_inactive, how='outer', on=['unique_id', 'ds', 'Quantity', 'Country', 'Product'])\n",
    "df_train_static = df_train_merged[['unique_id', 'Country', 'Product']].drop_duplicates().reset_index(drop=True)\n",
    "df_train_static = pd.get_dummies(df_train_static, columns=['Country', 'Product'], drop_first=True)\n",
    "assert df_train_static.shape[0] == df_train_merged['unique_id'].nunique(), 'The number of unique_id in static and merged dataframes do not match!'\n",
    "#df_train_merged = augment_calendar_df(df_train_merged, freq='M')[0]\n",
    "#df_validation = augment_calendar_df(df_validation, freq='M')[0]\n",
    "df_train_merged['month'] = df_train_merged['ds'].dt.month\n",
    "df_validation['month'] = df_validation['ds'].dt.month\n",
    "df_train_merged = pd.get_dummies(df_train_merged, columns=['month'], drop_first=True)\n",
    "df_validation = pd.get_dummies(df_validation, columns=['month'], drop_first=True)"
   ]
  },
  {
   "cell_type": "code",
   "execution_count": 21,
   "id": "2ced895d",
   "metadata": {},
   "outputs": [],
   "source": [
    "# Encode categorical variables\n",
    "df_train_merged['Country_idx'] = df_train_merged['Country'].astype('category').cat.codes\n",
    "df_train_merged['Product_idx'] = df_train_merged['Product'].astype('category').cat.codes"
   ]
  },
  {
   "cell_type": "code",
   "execution_count": 22,
   "id": "cdfb5fa8",
   "metadata": {},
   "outputs": [
    {
     "data": {
      "text/plain": [
       "Index(['unique_id', 'ds', 'Quantity', 'Country', 'Product', 'month_2',\n",
       "       'month_3', 'month_4', 'month_5', 'month_6', 'month_7', 'month_8',\n",
       "       'month_9', 'month_10', 'month_11', 'month_12', 'Country_idx',\n",
       "       'Product_idx'],\n",
       "      dtype='object')"
      ]
     },
     "execution_count": 22,
     "metadata": {},
     "output_type": "execute_result"
    }
   ],
   "source": [
    "df_train_merged.columns"
   ]
  },
  {
   "cell_type": "code",
   "execution_count": 23,
   "id": "6b10504d",
   "metadata": {},
   "outputs": [],
   "source": [
    "from mlforecast import MLForecast\n",
    "\n",
    "fcst = MLForecast(\n",
    "    models =[],\n",
    "    freq = 'MS',\n",
    "    lags=[1,12]\n",
    "    )\n",
    "\n",
    "df_train_merged = fcst.preprocess(df_train_merged,target_col='Quantity', id_col='unique_id', time_col='ds',static_features= ['Country', 'Product', 'Country_idx', 'Product_idx']).reset_index(drop=True)"
   ]
  },
  {
   "cell_type": "code",
   "execution_count": 24,
   "id": "e5a65101",
   "metadata": {},
   "outputs": [],
   "source": [
    "df_train_merged['lag1'] = (df_train_merged['lag1'] - df_train_merged['lag1'].mean()) / df_train_merged['lag1'].std()\n",
    "df_train_merged['lag12'] = (df_train_merged['lag12'] - df_train_merged['lag12'].mean()) / df_train_merged['lag12'].std()\n"
   ]
  },
  {
   "cell_type": "code",
   "execution_count": 25,
   "id": "1df11103",
   "metadata": {},
   "outputs": [],
   "source": [
    "# Coordinates\n",
    "coords = {\n",
    "    #\"obs_id\": df_train_merged.index,\n",
    "    \"month\": [col for col in df_train_merged.columns if col.startswith(\"month_\")],\n",
    "    \"lag\": [\"lag1\", \"lag12\"],\n",
    "    \"Country\": df_train_merged['Country'].astype('category').cat.categories.tolist(),\n",
    "    #\"Product\": df_train_merged['Product'].astype('category').cat.categories.tolist(),\n",
    "}\n",
    "\n",
    "\n",
    "with pm.Model(coords=coords) as model:\n",
    "    \n",
    "    # Mutable shared data containers\n",
    "    pm_data_month = pm.Data(\"X_month\", df_train_merged[coords[\"month\"]].values)\n",
    "    pm_data_lags = pm.Data(\"X_lags\", df_train_merged[[\"lag1\", \"lag12\"]].values)\n",
    "    pm_data_country = pm.Data(\"country_idx\", df_train_merged[\"Country_idx\"].values)\n",
    "    pm_data_item = pm.Data(\"item_idx\", df_train_merged[\"Product_idx\"].values)\n",
    "    \n",
    "    # Global intercept\n",
    "    intercept = pm.Normal(\"intercept\", mu=0, sigma=2)\n",
    "    \n",
    "    # Month coefficients\n",
    "    beta_month = pm.Normal(\"beta_month\", mu=0, sigma=1, dims=\"month\")\n",
    "    \n",
    "    # Lag coefficients\n",
    "    beta_lag = pm.Normal(\"beta_lag\", mu=0, sigma=1, dims=\"lag\")\n",
    "    \n",
    "    # Country/item intercepts\n",
    "    country_offset = pm.Normal(\"country_offset\", mu=0, sigma=1, dims=\"Country\")\n",
    "    \n",
    "    # Linear predictor\n",
    "    mu = (\n",
    "        intercept\n",
    "        + pm.math.dot(pm_data_month, beta_month) \\\n",
    "        + pm.math.dot(pm_data_lags, beta_lag) \\\n",
    "        + country_offset[pm_data_country] \n",
    "        )\n",
    "    \n",
    "    # Poisson likelihood\n",
    "    y = pm.Poisson(\"y\", mu=pm.math.exp(mu), observed=df_train_merged[\"Quantity\"].values)#, dims=\"obs_id\")\n",
    "    "
   ]
  },
  {
   "cell_type": "code",
   "execution_count": null,
   "id": "1d75da31",
   "metadata": {},
   "outputs": [
    {
     "name": "stderr",
     "output_type": "stream",
     "text": [
      "Initializing NUTS using jitter+adapt_diag...\n",
      "Multiprocess sampling (4 chains in 4 jobs)\n",
      "NUTS: [intercept, beta_month, beta_lag, country_offset]\n"
     ]
    },
    {
     "data": {
      "application/vnd.jupyter.widget-view+json": {
       "model_id": "ca5de2b315f343af80f77e844aa0a796",
       "version_major": 2,
       "version_minor": 0
      },
      "text/plain": [
       "Output()"
      ]
     },
     "metadata": {},
     "output_type": "display_data"
    }
   ],
   "source": [
    "with model:\n",
    "    trace = pm.sample(1000, tune=1000, target_accept=0.9,cores=8,chains=4,return_inferencedata=True)"
   ]
  },
  {
   "cell_type": "markdown",
   "id": "924ba954",
   "metadata": {},
   "source": [
    "MCMC troppo lento e non tutte le catene divergono!"
   ]
  }
 ],
 "metadata": {
  "kernelspec": {
   "display_name": "Python 3",
   "language": "python",
   "name": "python3"
  },
  "language_info": {
   "codemirror_mode": {
    "name": "ipython",
    "version": 3
   },
   "file_extension": ".py",
   "mimetype": "text/x-python",
   "name": "python",
   "nbconvert_exporter": "python",
   "pygments_lexer": "ipython3",
   "version": "3.12.1"
  }
 },
 "nbformat": 4,
 "nbformat_minor": 5
}
